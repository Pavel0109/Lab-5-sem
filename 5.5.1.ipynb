{
 "cells": [
  {
   "cell_type": "code",
   "execution_count": 20,
   "metadata": {
    "hide_input": false
   },
   "outputs": [],
   "source": [
    "import pandas as pd\n",
    "import numpy as np\n",
    "import math\n",
    "import plotly.graph_objects as go"
   ]
  },
  {
   "cell_type": "code",
   "execution_count": 21,
   "metadata": {},
   "outputs": [],
   "source": [
    "def fit(x,y):\n",
    "    A = np.vstack([x, np.ones(len(x))]).T\n",
    "    a,b = np.linalg.lstsq(A, y, rcond=None)[0]\n",
    "    return a,b"
   ]
  },
  {
   "cell_type": "markdown",
   "metadata": {
    "hide_input": false
   },
   "source": [
    "# Работа 5.1\n",
    "# Измерение коэффциента ослабления потока $\\gamma$-лучей в веществе и определение их энергии\n",
    "\n",
    "С помощью сцинтилляционного счетчика измеряются линейные коэффициенты ослабления потока $\\gamma$-лучей в свинце, железе и алюминии; по их величине определяется энергия $\\gamma$-квантов.\n",
    "Гамма-лучи возникают при переходе возбужденных ядер из одного\n",
    "энергетического состояния в другое, более низкое. Энергия $\\gamma$-квантов обычно заключена между несколькими десятками килоэлектронвольт и несколькими миллионами электрон-вольт. Гамма-кванты не несут электрического заряда, их масса равна нулю. Проходя через вещество, пучок $\\gamma$-квантов постепенно ослабляется. Ослабление происходит по экспоненциальному закону, который может быть записан в\n",
    "двух эквивалентных формах:\n",
    "\n",
    "\\begin{equation}\n",
    "I = I_0e^{\\mu l}\n",
    "\\end{equation}\n",
    "\n",
    "\\begin{equation}\n",
    "I = I_0e^{\\mu' m_1}\n",
    "\\end{equation}"
   ]
  },
  {
   "cell_type": "markdown",
   "metadata": {},
   "source": [
    "$I,I_0$ - интенсивности прошедшего и падающего излучений\n",
    "$l$ - длина пути, пройденного $\\gamma$ - лучей, $\\mu, \\mu'$."
   ]
  },
  {
   "cell_type": "markdown",
   "metadata": {},
   "source": [
    "Тогда $\\mu$ определяется:\n",
    "$$\n",
    "\\mu = \\frac{1}{l}ln\\frac{N_0}{N}\n",
    "$$"
   ]
  },
  {
   "cell_type": "markdown",
   "metadata": {},
   "source": [
    "# Задание\n",
    "1. Включите пересчетный прибор и высоковольтный выпрямитель. Дайте им прогреться в течение 5-10 минут\n",
    "2. Убедитесь в том, что установка чувствует $\\gamma$-лучи. Для этого подайте на ФЭУ напряжение, указанное на установке. Измерьте скорость счета при полностью открытом коллиматоре, а затем при коллиматоре, закрытом свинцовой пробкой. Скорость счета должна резко уменьшиться. Чтобы убедиться в работоспособности установки, повторите эту процедуру 23 раза."
   ]
  },
  {
   "cell_type": "markdown",
   "metadata": {},
   "source": [
    "3. При вычислении $N_0$ и $N$ из показаний прибора необходимо вычитать он, который обусловлен шумом ФЭУ и посторонними частицами: космическим излучением, $\\gamma$-квантами от соседних источников, квантами, рассеянными на стенах комнаты и в стенках прибора и т.д."
   ]
  },
  {
   "cell_type": "code",
   "execution_count": 22,
   "metadata": {
    "jupyter": {
     "source_hidden": true
    }
   },
   "outputs": [
    {
     "data": {
      "text/html": [
       "<div>\n",
       "<style scoped>\n",
       "    .dataframe tbody tr th:only-of-type {\n",
       "        vertical-align: middle;\n",
       "    }\n",
       "\n",
       "    .dataframe tbody tr th {\n",
       "        vertical-align: top;\n",
       "    }\n",
       "\n",
       "    .dataframe thead th {\n",
       "        text-align: right;\n",
       "    }\n",
       "</style>\n",
       "<table border=\"1\" class=\"dataframe\">\n",
       "  <thead>\n",
       "    <tr style=\"text-align: right;\">\n",
       "      <th></th>\n",
       "      <th>$N_0 $ без преграды</th>\n",
       "      <th>шум</th>\n",
       "    </tr>\n",
       "  </thead>\n",
       "  <tbody>\n",
       "    <tr>\n",
       "      <th>0</th>\n",
       "      <td>95429.00</td>\n",
       "      <td>210.00</td>\n",
       "    </tr>\n",
       "    <tr>\n",
       "      <th>1</th>\n",
       "      <td>94740.00</td>\n",
       "      <td>229.00</td>\n",
       "    </tr>\n",
       "    <tr>\n",
       "      <th>2</th>\n",
       "      <td>95331.00</td>\n",
       "      <td>189.00</td>\n",
       "    </tr>\n",
       "    <tr>\n",
       "      <th>3</th>\n",
       "      <td>95167.00</td>\n",
       "      <td>209.00</td>\n",
       "    </tr>\n",
       "    <tr>\n",
       "      <th>Средняя</th>\n",
       "      <td>95166.75</td>\n",
       "      <td>209.25</td>\n",
       "    </tr>\n",
       "  </tbody>\n",
       "</table>\n",
       "</div>"
      ],
      "text/plain": [
       "         $N_0 $ без преграды     шум\n",
       "0                   95429.00  210.00\n",
       "1                   94740.00  229.00\n",
       "2                   95331.00  189.00\n",
       "3                   95167.00  209.00\n",
       "Средняя             95166.75  209.25"
      ]
     },
     "execution_count": 22,
     "metadata": {},
     "output_type": "execute_result"
    }
   ],
   "source": [
    "data_0 = np.array([[95429,210],\n",
    "[94740,229],\n",
    "[95331,189],\n",
    "[95167,209]])\n",
    "data = pd.DataFrame(data_0, \n",
    "                    index = np.arange(1,len(data_0)+1,1),\n",
    "                    columns = ['$N_0 $ без преграды','шум'])\n",
    "\n",
    "data = data.append({'$N_0 $ без преграды':np.mean(data_0[:,0]),'шум':np.mean(data_0[:,1])}, ignore_index=True)\n",
    "data = data.rename(index = {len(data)-1:'Средняя'})\n",
    "N0 = data.iloc[4,0]-data.iloc[4,1]\n",
    "data"
   ]
  },
  {
   "cell_type": "code",
   "execution_count": 23,
   "metadata": {
    "jupyter": {
     "source_hidden": true
    }
   },
   "outputs": [
    {
     "name": "stdout",
     "output_type": "stream",
     "text": [
      "N_0 без шума = 94957.5\n"
     ]
    }
   ],
   "source": [
    "print('N_0 без шума','=',N0)"
   ]
  },
  {
   "cell_type": "code",
   "execution_count": 24,
   "metadata": {
    "jupyter": {
     "source_hidden": true
    }
   },
   "outputs": [],
   "source": [
    "def create_table (data,lenth_of_material,average_value_without_noize):\n",
    "    table = pd.DataFrame({'lenth':np.arange(lenth_of_material,(len(data)+1)*lenth_of_material,lenth_of_material),\n",
    "                         'data_0':data},\n",
    "                         index = np.arange(1,len(data)+1,1))\n",
    "    \n",
    "    table = table.assign(data_1 = lambda x: x.data_0 - 209)\n",
    "    data_2 = pd.Series(index = np.arange(1,len(data)+1,1))\n",
    "    \n",
    "    for i in range(len(data)):\n",
    "        data_2[i+1] = math.log(average_value_without_noize/table['data_1'][i+1])\n",
    "\n",
    "    table['ln(N)'] = data_2\n",
    "    \n",
    "    mu = pd.Series(index = np.arange(1,len(data)+1,1))\n",
    "    for i in range(len(data)):\n",
    "        mu[i+1] = 1/table['lenth'][i+1]*math.log(average_value_without_noize/table['data_1'][i+1])\n",
    "    table['$\\mu$'] = mu\n",
    "    table = table.rename(columns = {'lenth':'Длина(cm)','data_0':'N с шумом','data_1':'N без шума'})\n",
    "    return table"
   ]
  },
  {
   "cell_type": "code",
   "execution_count": 25,
   "metadata": {
    "jupyter": {
     "outputs_hidden": true,
     "source_hidden": true
    }
   },
   "outputs": [
    {
     "data": {
      "text/html": [
       "<div>\n",
       "<style scoped>\n",
       "    .dataframe tbody tr th:only-of-type {\n",
       "        vertical-align: middle;\n",
       "    }\n",
       "\n",
       "    .dataframe tbody tr th {\n",
       "        vertical-align: top;\n",
       "    }\n",
       "\n",
       "    .dataframe thead th {\n",
       "        text-align: right;\n",
       "    }\n",
       "</style>\n",
       "<table border=\"1\" class=\"dataframe\">\n",
       "  <thead>\n",
       "    <tr style=\"text-align: right;\">\n",
       "      <th></th>\n",
       "      <th>Длина(cm)</th>\n",
       "      <th>Материал</th>\n",
       "    </tr>\n",
       "  </thead>\n",
       "  <tbody>\n",
       "    <tr>\n",
       "      <th>1</th>\n",
       "      <td>2.00</td>\n",
       "      <td>Алюминий</td>\n",
       "    </tr>\n",
       "    <tr>\n",
       "      <th>2</th>\n",
       "      <td>0.45</td>\n",
       "      <td>Свинец</td>\n",
       "    </tr>\n",
       "    <tr>\n",
       "      <th>3</th>\n",
       "      <td>1.00</td>\n",
       "      <td>Железо</td>\n",
       "    </tr>\n",
       "    <tr>\n",
       "      <th>4</th>\n",
       "      <td>2.00</td>\n",
       "      <td>Дерево</td>\n",
       "    </tr>\n",
       "  </tbody>\n",
       "</table>\n",
       "</div>"
      ],
      "text/plain": [
       "   Длина(cm)  Материал\n",
       "1       2.00  Алюминий\n",
       "2       0.45    Свинец\n",
       "3       1.00    Железо\n",
       "4       2.00    Дерево"
      ]
     },
     "execution_count": 25,
     "metadata": {},
     "output_type": "execute_result"
    }
   ],
   "source": [
    "lenth = pd.DataFrame ({'Материал':['Алюминий','Свинец','Железо','Дерево'],\n",
    "                       'Длина(cm)':[2,0.45,1,2]},\n",
    "                     index = np.arange(1,5,1))\n",
    "lenth"
   ]
  },
  {
   "cell_type": "markdown",
   "metadata": {
    "jupyter": {
     "source_hidden": true
    }
   },
   "source": [
    "### Данные"
   ]
  },
  {
   "cell_type": "markdown",
   "metadata": {},
   "source": [
    "1. Аллюминий"
   ]
  },
  {
   "cell_type": "code",
   "execution_count": 26,
   "metadata": {
    "jupyter": {
     "source_hidden": true
    }
   },
   "outputs": [
    {
     "data": {
      "text/html": [
       "<div>\n",
       "<style scoped>\n",
       "    .dataframe tbody tr th:only-of-type {\n",
       "        vertical-align: middle;\n",
       "    }\n",
       "\n",
       "    .dataframe tbody tr th {\n",
       "        vertical-align: top;\n",
       "    }\n",
       "\n",
       "    .dataframe thead th {\n",
       "        text-align: right;\n",
       "    }\n",
       "</style>\n",
       "<table border=\"1\" class=\"dataframe\">\n",
       "  <thead>\n",
       "    <tr style=\"text-align: right;\">\n",
       "      <th></th>\n",
       "      <th>N с шумом</th>\n",
       "      <th>Длина(cm)</th>\n",
       "      <th>N без шума</th>\n",
       "      <th>ln(N)</th>\n",
       "      <th>$\\mu$</th>\n",
       "    </tr>\n",
       "  </thead>\n",
       "  <tbody>\n",
       "    <tr>\n",
       "      <th>1</th>\n",
       "      <td>61200</td>\n",
       "      <td>2</td>\n",
       "      <td>60991</td>\n",
       "      <td>0.442703</td>\n",
       "      <td>0.221352</td>\n",
       "    </tr>\n",
       "    <tr>\n",
       "      <th>2</th>\n",
       "      <td>41053</td>\n",
       "      <td>4</td>\n",
       "      <td>40844</td>\n",
       "      <td>0.843669</td>\n",
       "      <td>0.210917</td>\n",
       "    </tr>\n",
       "    <tr>\n",
       "      <th>3</th>\n",
       "      <td>27267</td>\n",
       "      <td>6</td>\n",
       "      <td>27058</td>\n",
       "      <td>1.255447</td>\n",
       "      <td>0.209241</td>\n",
       "    </tr>\n",
       "    <tr>\n",
       "      <th>4</th>\n",
       "      <td>18350</td>\n",
       "      <td>8</td>\n",
       "      <td>18141</td>\n",
       "      <td>1.655255</td>\n",
       "      <td>0.206907</td>\n",
       "    </tr>\n",
       "    <tr>\n",
       "      <th>5</th>\n",
       "      <td>12489</td>\n",
       "      <td>10</td>\n",
       "      <td>12280</td>\n",
       "      <td>2.045458</td>\n",
       "      <td>0.204546</td>\n",
       "    </tr>\n",
       "    <tr>\n",
       "      <th>6</th>\n",
       "      <td>8583</td>\n",
       "      <td>12</td>\n",
       "      <td>8374</td>\n",
       "      <td>2.428298</td>\n",
       "      <td>0.202358</td>\n",
       "    </tr>\n",
       "    <tr>\n",
       "      <th>7</th>\n",
       "      <td>5764</td>\n",
       "      <td>14</td>\n",
       "      <td>5555</td>\n",
       "      <td>2.838731</td>\n",
       "      <td>0.202766</td>\n",
       "    </tr>\n",
       "  </tbody>\n",
       "</table>\n",
       "</div>"
      ],
      "text/plain": [
       "   N с шумом  Длина(cm)  N без шума     ln(N)     $\\mu$\n",
       "1      61200          2       60991  0.442703  0.221352\n",
       "2      41053          4       40844  0.843669  0.210917\n",
       "3      27267          6       27058  1.255447  0.209241\n",
       "4      18350          8       18141  1.655255  0.206907\n",
       "5      12489         10       12280  2.045458  0.204546\n",
       "6       8583         12        8374  2.428298  0.202358\n",
       "7       5764         14        5555  2.838731  0.202766"
      ]
     },
     "execution_count": 26,
     "metadata": {},
     "output_type": "execute_result"
    }
   ],
   "source": [
    "all = create_table([\n",
    "    61200,\n",
    "    41053,\n",
    "    27267,\n",
    "    18350,\n",
    "    12489,\n",
    "    8583,\n",
    "    5764],2,N0)\n",
    "all"
   ]
  },
  {
   "cell_type": "code",
   "execution_count": 27,
   "metadata": {
    "hide_input": true
   },
   "outputs": [
    {
     "name": "stdout",
     "output_type": "stream",
     "text": [
      "mu_all_aver = 0.2082981857167199\n",
      "Cреднеквадратичное отклонение = 0.0065833110872393075\n"
     ]
    }
   ],
   "source": [
    "mu_all_aver = np.mean(all.iloc[:,4])\n",
    "mu_all_delta = all.iloc[:,4] - mu_all_aver\n",
    "all['$\\delta \\mu$'] = mu_all_delta\n",
    "print('mu_all_aver =',mu_all_aver)\n",
    "print('Cреднеквадратичное отклонение =',np.std(all.iloc[:,4], ddof=1))"
   ]
  },
  {
   "cell_type": "code",
   "execution_count": 28,
   "metadata": {},
   "outputs": [
    {
     "data": {
      "text/html": [
       "<div>\n",
       "<style scoped>\n",
       "    .dataframe tbody tr th:only-of-type {\n",
       "        vertical-align: middle;\n",
       "    }\n",
       "\n",
       "    .dataframe tbody tr th {\n",
       "        vertical-align: top;\n",
       "    }\n",
       "\n",
       "    .dataframe thead th {\n",
       "        text-align: right;\n",
       "    }\n",
       "</style>\n",
       "<table border=\"1\" class=\"dataframe\">\n",
       "  <thead>\n",
       "    <tr style=\"text-align: right;\">\n",
       "      <th></th>\n",
       "      <th>N с шумом</th>\n",
       "      <th>Длина(cm)</th>\n",
       "      <th>N без шума</th>\n",
       "      <th>ln(N)</th>\n",
       "      <th>$\\mu$</th>\n",
       "      <th>$\\delta \\mu$</th>\n",
       "    </tr>\n",
       "  </thead>\n",
       "  <tbody>\n",
       "    <tr>\n",
       "      <th>1</th>\n",
       "      <td>61200</td>\n",
       "      <td>2</td>\n",
       "      <td>60991</td>\n",
       "      <td>0.442703</td>\n",
       "      <td>0.221352</td>\n",
       "      <td>0.013053</td>\n",
       "    </tr>\n",
       "    <tr>\n",
       "      <th>2</th>\n",
       "      <td>41053</td>\n",
       "      <td>4</td>\n",
       "      <td>40844</td>\n",
       "      <td>0.843669</td>\n",
       "      <td>0.210917</td>\n",
       "      <td>0.002619</td>\n",
       "    </tr>\n",
       "    <tr>\n",
       "      <th>3</th>\n",
       "      <td>27267</td>\n",
       "      <td>6</td>\n",
       "      <td>27058</td>\n",
       "      <td>1.255447</td>\n",
       "      <td>0.209241</td>\n",
       "      <td>0.000943</td>\n",
       "    </tr>\n",
       "    <tr>\n",
       "      <th>4</th>\n",
       "      <td>18350</td>\n",
       "      <td>8</td>\n",
       "      <td>18141</td>\n",
       "      <td>1.655255</td>\n",
       "      <td>0.206907</td>\n",
       "      <td>-0.001391</td>\n",
       "    </tr>\n",
       "    <tr>\n",
       "      <th>5</th>\n",
       "      <td>12489</td>\n",
       "      <td>10</td>\n",
       "      <td>12280</td>\n",
       "      <td>2.045458</td>\n",
       "      <td>0.204546</td>\n",
       "      <td>-0.003752</td>\n",
       "    </tr>\n",
       "    <tr>\n",
       "      <th>6</th>\n",
       "      <td>8583</td>\n",
       "      <td>12</td>\n",
       "      <td>8374</td>\n",
       "      <td>2.428298</td>\n",
       "      <td>0.202358</td>\n",
       "      <td>-0.005940</td>\n",
       "    </tr>\n",
       "    <tr>\n",
       "      <th>7</th>\n",
       "      <td>5764</td>\n",
       "      <td>14</td>\n",
       "      <td>5555</td>\n",
       "      <td>2.838731</td>\n",
       "      <td>0.202766</td>\n",
       "      <td>-0.005532</td>\n",
       "    </tr>\n",
       "  </tbody>\n",
       "</table>\n",
       "</div>"
      ],
      "text/plain": [
       "   N с шумом  Длина(cm)  N без шума     ln(N)     $\\mu$  $\\delta \\mu$\n",
       "1      61200          2       60991  0.442703  0.221352      0.013053\n",
       "2      41053          4       40844  0.843669  0.210917      0.002619\n",
       "3      27267          6       27058  1.255447  0.209241      0.000943\n",
       "4      18350          8       18141  1.655255  0.206907     -0.001391\n",
       "5      12489         10       12280  2.045458  0.204546     -0.003752\n",
       "6       8583         12        8374  2.428298  0.202358     -0.005940\n",
       "7       5764         14        5555  2.838731  0.202766     -0.005532"
      ]
     },
     "execution_count": 28,
     "metadata": {},
     "output_type": "execute_result"
    }
   ],
   "source": [
    "all"
   ]
  },
  {
   "cell_type": "markdown",
   "metadata": {},
   "source": [
    "2. Свинец"
   ]
  },
  {
   "cell_type": "code",
   "execution_count": 29,
   "metadata": {
    "jupyter": {
     "source_hidden": true
    }
   },
   "outputs": [
    {
     "data": {
      "text/html": [
       "<div>\n",
       "<style scoped>\n",
       "    .dataframe tbody tr th:only-of-type {\n",
       "        vertical-align: middle;\n",
       "    }\n",
       "\n",
       "    .dataframe tbody tr th {\n",
       "        vertical-align: top;\n",
       "    }\n",
       "\n",
       "    .dataframe thead th {\n",
       "        text-align: right;\n",
       "    }\n",
       "</style>\n",
       "<table border=\"1\" class=\"dataframe\">\n",
       "  <thead>\n",
       "    <tr style=\"text-align: right;\">\n",
       "      <th></th>\n",
       "      <th>N с шумом</th>\n",
       "      <th>Длина(cm)</th>\n",
       "      <th>N без шума</th>\n",
       "      <th>ln(N)</th>\n",
       "      <th>$\\mu$</th>\n",
       "    </tr>\n",
       "  </thead>\n",
       "  <tbody>\n",
       "    <tr>\n",
       "      <th>1</th>\n",
       "      <td>54145</td>\n",
       "      <td>0.45</td>\n",
       "      <td>53936</td>\n",
       "      <td>0.565631</td>\n",
       "      <td>1.256958</td>\n",
       "    </tr>\n",
       "    <tr>\n",
       "      <th>2</th>\n",
       "      <td>32575</td>\n",
       "      <td>0.90</td>\n",
       "      <td>32366</td>\n",
       "      <td>1.076321</td>\n",
       "      <td>1.195912</td>\n",
       "    </tr>\n",
       "    <tr>\n",
       "      <th>3</th>\n",
       "      <td>18100</td>\n",
       "      <td>1.35</td>\n",
       "      <td>17891</td>\n",
       "      <td>1.669132</td>\n",
       "      <td>1.236394</td>\n",
       "    </tr>\n",
       "    <tr>\n",
       "      <th>4</th>\n",
       "      <td>10354</td>\n",
       "      <td>1.80</td>\n",
       "      <td>10145</td>\n",
       "      <td>2.236448</td>\n",
       "      <td>1.242471</td>\n",
       "    </tr>\n",
       "    <tr>\n",
       "      <th>5</th>\n",
       "      <td>6213</td>\n",
       "      <td>2.25</td>\n",
       "      <td>6004</td>\n",
       "      <td>2.761004</td>\n",
       "      <td>1.227113</td>\n",
       "    </tr>\n",
       "    <tr>\n",
       "      <th>6</th>\n",
       "      <td>4185</td>\n",
       "      <td>2.70</td>\n",
       "      <td>3976</td>\n",
       "      <td>3.173153</td>\n",
       "      <td>1.175242</td>\n",
       "    </tr>\n",
       "    <tr>\n",
       "      <th>7</th>\n",
       "      <td>2504</td>\n",
       "      <td>3.15</td>\n",
       "      <td>2295</td>\n",
       "      <td>3.722697</td>\n",
       "      <td>1.181808</td>\n",
       "    </tr>\n",
       "    <tr>\n",
       "      <th>8</th>\n",
       "      <td>1666</td>\n",
       "      <td>3.60</td>\n",
       "      <td>1457</td>\n",
       "      <td>4.177050</td>\n",
       "      <td>1.160292</td>\n",
       "    </tr>\n",
       "    <tr>\n",
       "      <th>9</th>\n",
       "      <td>1152</td>\n",
       "      <td>4.05</td>\n",
       "      <td>943</td>\n",
       "      <td>4.612118</td>\n",
       "      <td>1.138795</td>\n",
       "    </tr>\n",
       "  </tbody>\n",
       "</table>\n",
       "</div>"
      ],
      "text/plain": [
       "   N с шумом  Длина(cm)  N без шума     ln(N)     $\\mu$\n",
       "1      54145       0.45       53936  0.565631  1.256958\n",
       "2      32575       0.90       32366  1.076321  1.195912\n",
       "3      18100       1.35       17891  1.669132  1.236394\n",
       "4      10354       1.80       10145  2.236448  1.242471\n",
       "5       6213       2.25        6004  2.761004  1.227113\n",
       "6       4185       2.70        3976  3.173153  1.175242\n",
       "7       2504       3.15        2295  3.722697  1.181808\n",
       "8       1666       3.60        1457  4.177050  1.160292\n",
       "9       1152       4.05         943  4.612118  1.138795"
      ]
     },
     "execution_count": 29,
     "metadata": {},
     "output_type": "execute_result"
    }
   ],
   "source": [
    "pb =  create_table([\n",
    "    54145,\n",
    "    32575,\n",
    "    18100,\n",
    "    10354,\n",
    "    6213,\n",
    "    4185,\n",
    "    2504,\n",
    "    1666,\n",
    "    1152],0.45,N0)\n",
    "pb"
   ]
  },
  {
   "cell_type": "code",
   "execution_count": 30,
   "metadata": {
    "jupyter": {
     "source_hidden": true
    }
   },
   "outputs": [
    {
     "name": "stdout",
     "output_type": "stream",
     "text": [
      "mu_pb_aver = 1.2016649994623623\n",
      "Cреднеквадратичное отклонение = 0.040875085150684935\n"
     ]
    }
   ],
   "source": [
    "mu_pb_aver = np.mean(pb.iloc[:,4])\n",
    "mu_pb_delta = pb.iloc[:,4] - mu_pb_aver\n",
    "pb['$\\delta \\mu$'] = mu_pb_delta\n",
    "print('mu_pb_aver =',mu_pb_aver)\n",
    "print('Cреднеквадратичное отклонение =',np.std(pb.iloc[:,4], ddof=1))"
   ]
  },
  {
   "cell_type": "code",
   "execution_count": 31,
   "metadata": {},
   "outputs": [
    {
     "data": {
      "text/html": [
       "<div>\n",
       "<style scoped>\n",
       "    .dataframe tbody tr th:only-of-type {\n",
       "        vertical-align: middle;\n",
       "    }\n",
       "\n",
       "    .dataframe tbody tr th {\n",
       "        vertical-align: top;\n",
       "    }\n",
       "\n",
       "    .dataframe thead th {\n",
       "        text-align: right;\n",
       "    }\n",
       "</style>\n",
       "<table border=\"1\" class=\"dataframe\">\n",
       "  <thead>\n",
       "    <tr style=\"text-align: right;\">\n",
       "      <th></th>\n",
       "      <th>N с шумом</th>\n",
       "      <th>Длина(cm)</th>\n",
       "      <th>N без шума</th>\n",
       "      <th>ln(N)</th>\n",
       "      <th>$\\mu$</th>\n",
       "      <th>$\\delta \\mu$</th>\n",
       "    </tr>\n",
       "  </thead>\n",
       "  <tbody>\n",
       "    <tr>\n",
       "      <th>1</th>\n",
       "      <td>54145</td>\n",
       "      <td>0.45</td>\n",
       "      <td>53936</td>\n",
       "      <td>0.565631</td>\n",
       "      <td>1.256958</td>\n",
       "      <td>0.055293</td>\n",
       "    </tr>\n",
       "    <tr>\n",
       "      <th>2</th>\n",
       "      <td>32575</td>\n",
       "      <td>0.90</td>\n",
       "      <td>32366</td>\n",
       "      <td>1.076321</td>\n",
       "      <td>1.195912</td>\n",
       "      <td>-0.005753</td>\n",
       "    </tr>\n",
       "    <tr>\n",
       "      <th>3</th>\n",
       "      <td>18100</td>\n",
       "      <td>1.35</td>\n",
       "      <td>17891</td>\n",
       "      <td>1.669132</td>\n",
       "      <td>1.236394</td>\n",
       "      <td>0.034729</td>\n",
       "    </tr>\n",
       "    <tr>\n",
       "      <th>4</th>\n",
       "      <td>10354</td>\n",
       "      <td>1.80</td>\n",
       "      <td>10145</td>\n",
       "      <td>2.236448</td>\n",
       "      <td>1.242471</td>\n",
       "      <td>0.040806</td>\n",
       "    </tr>\n",
       "    <tr>\n",
       "      <th>5</th>\n",
       "      <td>6213</td>\n",
       "      <td>2.25</td>\n",
       "      <td>6004</td>\n",
       "      <td>2.761004</td>\n",
       "      <td>1.227113</td>\n",
       "      <td>0.025448</td>\n",
       "    </tr>\n",
       "    <tr>\n",
       "      <th>6</th>\n",
       "      <td>4185</td>\n",
       "      <td>2.70</td>\n",
       "      <td>3976</td>\n",
       "      <td>3.173153</td>\n",
       "      <td>1.175242</td>\n",
       "      <td>-0.026423</td>\n",
       "    </tr>\n",
       "    <tr>\n",
       "      <th>7</th>\n",
       "      <td>2504</td>\n",
       "      <td>3.15</td>\n",
       "      <td>2295</td>\n",
       "      <td>3.722697</td>\n",
       "      <td>1.181808</td>\n",
       "      <td>-0.019857</td>\n",
       "    </tr>\n",
       "    <tr>\n",
       "      <th>8</th>\n",
       "      <td>1666</td>\n",
       "      <td>3.60</td>\n",
       "      <td>1457</td>\n",
       "      <td>4.177050</td>\n",
       "      <td>1.160292</td>\n",
       "      <td>-0.041373</td>\n",
       "    </tr>\n",
       "    <tr>\n",
       "      <th>9</th>\n",
       "      <td>1152</td>\n",
       "      <td>4.05</td>\n",
       "      <td>943</td>\n",
       "      <td>4.612118</td>\n",
       "      <td>1.138795</td>\n",
       "      <td>-0.062870</td>\n",
       "    </tr>\n",
       "  </tbody>\n",
       "</table>\n",
       "</div>"
      ],
      "text/plain": [
       "   N с шумом  Длина(cm)  N без шума     ln(N)     $\\mu$  $\\delta \\mu$\n",
       "1      54145       0.45       53936  0.565631  1.256958      0.055293\n",
       "2      32575       0.90       32366  1.076321  1.195912     -0.005753\n",
       "3      18100       1.35       17891  1.669132  1.236394      0.034729\n",
       "4      10354       1.80       10145  2.236448  1.242471      0.040806\n",
       "5       6213       2.25        6004  2.761004  1.227113      0.025448\n",
       "6       4185       2.70        3976  3.173153  1.175242     -0.026423\n",
       "7       2504       3.15        2295  3.722697  1.181808     -0.019857\n",
       "8       1666       3.60        1457  4.177050  1.160292     -0.041373\n",
       "9       1152       4.05         943  4.612118  1.138795     -0.062870"
      ]
     },
     "execution_count": 31,
     "metadata": {},
     "output_type": "execute_result"
    }
   ],
   "source": [
    "pb"
   ]
  },
  {
   "cell_type": "markdown",
   "metadata": {},
   "source": [
    "3. Железо"
   ]
  },
  {
   "cell_type": "code",
   "execution_count": 32,
   "metadata": {
    "jupyter": {
     "source_hidden": true
    }
   },
   "outputs": [
    {
     "data": {
      "text/html": [
       "<div>\n",
       "<style scoped>\n",
       "    .dataframe tbody tr th:only-of-type {\n",
       "        vertical-align: middle;\n",
       "    }\n",
       "\n",
       "    .dataframe tbody tr th {\n",
       "        vertical-align: top;\n",
       "    }\n",
       "\n",
       "    .dataframe thead th {\n",
       "        text-align: right;\n",
       "    }\n",
       "</style>\n",
       "<table border=\"1\" class=\"dataframe\">\n",
       "  <thead>\n",
       "    <tr style=\"text-align: right;\">\n",
       "      <th></th>\n",
       "      <th>N с шумом</th>\n",
       "      <th>Длина(cm)</th>\n",
       "      <th>N без шума</th>\n",
       "      <th>ln(N)</th>\n",
       "      <th>$\\mu$</th>\n",
       "    </tr>\n",
       "  </thead>\n",
       "  <tbody>\n",
       "    <tr>\n",
       "      <th>1</th>\n",
       "      <td>52100</td>\n",
       "      <td>1</td>\n",
       "      <td>51891</td>\n",
       "      <td>0.604284</td>\n",
       "      <td>0.604284</td>\n",
       "    </tr>\n",
       "    <tr>\n",
       "      <th>2</th>\n",
       "      <td>29492</td>\n",
       "      <td>2</td>\n",
       "      <td>29283</td>\n",
       "      <td>1.176422</td>\n",
       "      <td>0.588211</td>\n",
       "    </tr>\n",
       "    <tr>\n",
       "      <th>3</th>\n",
       "      <td>16494</td>\n",
       "      <td>3</td>\n",
       "      <td>16285</td>\n",
       "      <td>1.763185</td>\n",
       "      <td>0.587728</td>\n",
       "    </tr>\n",
       "    <tr>\n",
       "      <th>4</th>\n",
       "      <td>9744</td>\n",
       "      <td>4</td>\n",
       "      <td>9535</td>\n",
       "      <td>2.298460</td>\n",
       "      <td>0.574615</td>\n",
       "    </tr>\n",
       "    <tr>\n",
       "      <th>5</th>\n",
       "      <td>5342</td>\n",
       "      <td>5</td>\n",
       "      <td>5133</td>\n",
       "      <td>2.917739</td>\n",
       "      <td>0.583548</td>\n",
       "    </tr>\n",
       "    <tr>\n",
       "      <th>6</th>\n",
       "      <td>3562</td>\n",
       "      <td>6</td>\n",
       "      <td>3353</td>\n",
       "      <td>3.343574</td>\n",
       "      <td>0.557262</td>\n",
       "    </tr>\n",
       "    <tr>\n",
       "      <th>7</th>\n",
       "      <td>2273</td>\n",
       "      <td>7</td>\n",
       "      <td>2064</td>\n",
       "      <td>3.828784</td>\n",
       "      <td>0.546969</td>\n",
       "    </tr>\n",
       "    <tr>\n",
       "      <th>8</th>\n",
       "      <td>1358</td>\n",
       "      <td>8</td>\n",
       "      <td>1149</td>\n",
       "      <td>4.414537</td>\n",
       "      <td>0.551817</td>\n",
       "    </tr>\n",
       "    <tr>\n",
       "      <th>9</th>\n",
       "      <td>879</td>\n",
       "      <td>9</td>\n",
       "      <td>670</td>\n",
       "      <td>4.953907</td>\n",
       "      <td>0.550434</td>\n",
       "    </tr>\n",
       "  </tbody>\n",
       "</table>\n",
       "</div>"
      ],
      "text/plain": [
       "   N с шумом  Длина(cm)  N без шума     ln(N)     $\\mu$\n",
       "1      52100          1       51891  0.604284  0.604284\n",
       "2      29492          2       29283  1.176422  0.588211\n",
       "3      16494          3       16285  1.763185  0.587728\n",
       "4       9744          4        9535  2.298460  0.574615\n",
       "5       5342          5        5133  2.917739  0.583548\n",
       "6       3562          6        3353  3.343574  0.557262\n",
       "7       2273          7        2064  3.828784  0.546969\n",
       "8       1358          8        1149  4.414537  0.551817\n",
       "9        879          9         670  4.953907  0.550434"
      ]
     },
     "execution_count": 32,
     "metadata": {},
     "output_type": "execute_result"
    }
   ],
   "source": [
    "fe =  create_table([\n",
    "    52100,\n",
    "    29492,\n",
    "    16494,\n",
    "    9744,\n",
    "    5342,\n",
    "    3562,\n",
    "    2273,\n",
    "    1358,\n",
    "    879],1,N0)\n",
    "fe"
   ]
  },
  {
   "cell_type": "code",
   "execution_count": 33,
   "metadata": {},
   "outputs": [
    {
     "name": "stdout",
     "output_type": "stream",
     "text": [
      "mu_fe_aver = 0.5716521218463746\n",
      "Cреднеквадратичное отклонение = 0.020638929274498202\n"
     ]
    }
   ],
   "source": [
    "mu_fe_aver = np.mean(fe.iloc[:,4])\n",
    "mu_fe_delta = fe.iloc[:,4] - mu_fe_aver\n",
    "fe['$\\delta \\mu$'] = mu_fe_delta\n",
    "print('mu_fe_aver =',mu_fe_aver)\n",
    "print('Cреднеквадратичное отклонение =',np.std(fe.iloc[:,4], ddof=1))"
   ]
  },
  {
   "cell_type": "code",
   "execution_count": 34,
   "metadata": {},
   "outputs": [
    {
     "data": {
      "text/html": [
       "<div>\n",
       "<style scoped>\n",
       "    .dataframe tbody tr th:only-of-type {\n",
       "        vertical-align: middle;\n",
       "    }\n",
       "\n",
       "    .dataframe tbody tr th {\n",
       "        vertical-align: top;\n",
       "    }\n",
       "\n",
       "    .dataframe thead th {\n",
       "        text-align: right;\n",
       "    }\n",
       "</style>\n",
       "<table border=\"1\" class=\"dataframe\">\n",
       "  <thead>\n",
       "    <tr style=\"text-align: right;\">\n",
       "      <th></th>\n",
       "      <th>N с шумом</th>\n",
       "      <th>Длина(cm)</th>\n",
       "      <th>N без шума</th>\n",
       "      <th>ln(N)</th>\n",
       "      <th>$\\mu$</th>\n",
       "      <th>$\\delta \\mu$</th>\n",
       "    </tr>\n",
       "  </thead>\n",
       "  <tbody>\n",
       "    <tr>\n",
       "      <th>1</th>\n",
       "      <td>52100</td>\n",
       "      <td>1</td>\n",
       "      <td>51891</td>\n",
       "      <td>0.604284</td>\n",
       "      <td>0.604284</td>\n",
       "      <td>0.032632</td>\n",
       "    </tr>\n",
       "    <tr>\n",
       "      <th>2</th>\n",
       "      <td>29492</td>\n",
       "      <td>2</td>\n",
       "      <td>29283</td>\n",
       "      <td>1.176422</td>\n",
       "      <td>0.588211</td>\n",
       "      <td>0.016559</td>\n",
       "    </tr>\n",
       "    <tr>\n",
       "      <th>3</th>\n",
       "      <td>16494</td>\n",
       "      <td>3</td>\n",
       "      <td>16285</td>\n",
       "      <td>1.763185</td>\n",
       "      <td>0.587728</td>\n",
       "      <td>0.016076</td>\n",
       "    </tr>\n",
       "    <tr>\n",
       "      <th>4</th>\n",
       "      <td>9744</td>\n",
       "      <td>4</td>\n",
       "      <td>9535</td>\n",
       "      <td>2.298460</td>\n",
       "      <td>0.574615</td>\n",
       "      <td>0.002963</td>\n",
       "    </tr>\n",
       "    <tr>\n",
       "      <th>5</th>\n",
       "      <td>5342</td>\n",
       "      <td>5</td>\n",
       "      <td>5133</td>\n",
       "      <td>2.917739</td>\n",
       "      <td>0.583548</td>\n",
       "      <td>0.011896</td>\n",
       "    </tr>\n",
       "    <tr>\n",
       "      <th>6</th>\n",
       "      <td>3562</td>\n",
       "      <td>6</td>\n",
       "      <td>3353</td>\n",
       "      <td>3.343574</td>\n",
       "      <td>0.557262</td>\n",
       "      <td>-0.014390</td>\n",
       "    </tr>\n",
       "    <tr>\n",
       "      <th>7</th>\n",
       "      <td>2273</td>\n",
       "      <td>7</td>\n",
       "      <td>2064</td>\n",
       "      <td>3.828784</td>\n",
       "      <td>0.546969</td>\n",
       "      <td>-0.024683</td>\n",
       "    </tr>\n",
       "    <tr>\n",
       "      <th>8</th>\n",
       "      <td>1358</td>\n",
       "      <td>8</td>\n",
       "      <td>1149</td>\n",
       "      <td>4.414537</td>\n",
       "      <td>0.551817</td>\n",
       "      <td>-0.019835</td>\n",
       "    </tr>\n",
       "    <tr>\n",
       "      <th>9</th>\n",
       "      <td>879</td>\n",
       "      <td>9</td>\n",
       "      <td>670</td>\n",
       "      <td>4.953907</td>\n",
       "      <td>0.550434</td>\n",
       "      <td>-0.021218</td>\n",
       "    </tr>\n",
       "  </tbody>\n",
       "</table>\n",
       "</div>"
      ],
      "text/plain": [
       "   N с шумом  Длина(cm)  N без шума     ln(N)     $\\mu$  $\\delta \\mu$\n",
       "1      52100          1       51891  0.604284  0.604284      0.032632\n",
       "2      29492          2       29283  1.176422  0.588211      0.016559\n",
       "3      16494          3       16285  1.763185  0.587728      0.016076\n",
       "4       9744          4        9535  2.298460  0.574615      0.002963\n",
       "5       5342          5        5133  2.917739  0.583548      0.011896\n",
       "6       3562          6        3353  3.343574  0.557262     -0.014390\n",
       "7       2273          7        2064  3.828784  0.546969     -0.024683\n",
       "8       1358          8        1149  4.414537  0.551817     -0.019835\n",
       "9        879          9         670  4.953907  0.550434     -0.021218"
      ]
     },
     "execution_count": 34,
     "metadata": {},
     "output_type": "execute_result"
    }
   ],
   "source": [
    "fe"
   ]
  },
  {
   "cell_type": "code",
   "execution_count": 35,
   "metadata": {
    "jupyter": {
     "source_hidden": true
    }
   },
   "outputs": [],
   "source": [
    "all_cof = fit(all.iloc[:,1],all.iloc[:,3])\n",
    "pb_cof = fit(pb.iloc[:,1],pb.iloc[:,3])\n",
    "fe_cof = fit(fe.iloc[:,1],fe.iloc[:,3])\n",
    "cof = [all_cof,pb_cof,fe_cof]\n",
    "all_x = np.linspace(min(all.iloc[:,1]),max(all.iloc[:,1]),100)\n",
    "pb_x = np.linspace(min(pb.iloc[:,1]),max(pb.iloc[:,1]),100)\n",
    "fe_x = np.linspace(min(fe.iloc[:,1]),max(fe.iloc[:,1]),100)"
   ]
  },
  {
   "cell_type": "code",
   "execution_count": 40,
   "metadata": {
    "jupyter": {
     "source_hidden": true
    }
   },
   "outputs": [
    {
     "data": {
      "application/vnd.plotly.v1+json": {
       "config": {
        "plotlyServerURL": "https://plot.ly"
       },
       "data": [
        {
         "error_y": {
          "type": "constant",
          "value": 0.0065833110872393075
         },
         "marker": {
          "color": "red"
         },
         "mode": "markers",
         "name": "Аллюминий",
         "type": "scatter",
         "x": [
          2,
          4,
          6,
          8,
          10,
          12,
          14
         ],
         "y": [
          0.44270311077591773,
          0.8436694913870894,
          1.2554467128992124,
          1.6552548531211952,
          2.0454575003613846,
          2.4282977554834293,
          2.8387309999887878
         ]
        },
        {
         "line": {
          "color": "red"
         },
         "showlegend": false,
         "type": "scatter",
         "x": [
          2,
          2.121212121212121,
          2.242424242424242,
          2.3636363636363638,
          2.484848484848485,
          2.606060606060606,
          2.7272727272727275,
          2.8484848484848486,
          2.9696969696969697,
          3.090909090909091,
          3.212121212121212,
          3.3333333333333335,
          3.4545454545454546,
          3.5757575757575757,
          3.6969696969696972,
          3.8181818181818183,
          3.9393939393939394,
          4.0606060606060606,
          4.181818181818182,
          4.303030303030303,
          4.424242424242424,
          4.545454545454545,
          4.666666666666667,
          4.787878787878788,
          4.909090909090909,
          5.03030303030303,
          5.151515151515151,
          5.272727272727273,
          5.3939393939393945,
          5.515151515151516,
          5.636363636363637,
          5.757575757575758,
          5.878787878787879,
          6,
          6.121212121212121,
          6.242424242424242,
          6.363636363636363,
          6.484848484848485,
          6.606060606060606,
          6.7272727272727275,
          6.848484848484849,
          6.96969696969697,
          7.090909090909091,
          7.212121212121212,
          7.333333333333334,
          7.454545454545455,
          7.575757575757576,
          7.696969696969697,
          7.818181818181818,
          7.9393939393939394,
          8.06060606060606,
          8.181818181818182,
          8.303030303030303,
          8.424242424242426,
          8.545454545454547,
          8.666666666666668,
          8.787878787878789,
          8.90909090909091,
          9.030303030303031,
          9.151515151515152,
          9.272727272727273,
          9.393939393939394,
          9.515151515151516,
          9.636363636363637,
          9.757575757575758,
          9.878787878787879,
          10,
          10.121212121212121,
          10.242424242424242,
          10.363636363636363,
          10.484848484848484,
          10.606060606060606,
          10.727272727272727,
          10.84848484848485,
          10.96969696969697,
          11.090909090909092,
          11.212121212121213,
          11.333333333333334,
          11.454545454545455,
          11.575757575757576,
          11.696969696969697,
          11.818181818181818,
          11.93939393939394,
          12.06060606060606,
          12.181818181818182,
          12.303030303030303,
          12.424242424242424,
          12.545454545454545,
          12.666666666666668,
          12.787878787878789,
          12.90909090909091,
          13.030303030303031,
          13.151515151515152,
          13.272727272727273,
          13.393939393939394,
          13.515151515151516,
          13.636363636363637,
          13.757575757575758,
          13.878787878787879,
          14
         ],
         "y": [
          0.4498638837924167,
          0.4739923491242207,
          0.49812081445602474,
          0.5222492797878289,
          0.5463777451196329,
          0.5705062104514369,
          0.594634675783241,
          0.618763141115045,
          0.6428916064468491,
          0.6670200717786531,
          0.6911485371104571,
          0.7152770024422612,
          0.7394054677740652,
          0.7635339331058693,
          0.7876623984376734,
          0.8117908637694774,
          0.8359193291012814,
          0.8600477944330853,
          0.8841762597648893,
          0.9083047250966934,
          0.9324331904284974,
          0.9565616557603014,
          0.9806901210921056,
          1.0048185864239096,
          1.0289470517557135,
          1.0530755170875175,
          1.0772039824193216,
          1.1013324477511257,
          1.1254609130829298,
          1.1495893784147337,
          1.1737178437465379,
          1.1978463090783418,
          1.221974774410146,
          1.2461032397419498,
          1.270231705073754,
          1.2943601704055578,
          1.318488635737362,
          1.342617101069166,
          1.3667455664009702,
          1.3908740317327741,
          1.4150024970645783,
          1.4391309623963822,
          1.463259427728186,
          1.4873878930599902,
          1.5115163583917943,
          1.5356448237235985,
          1.5597732890554024,
          1.5839017543872065,
          1.6080302197190104,
          1.6321586850508145,
          1.6562871503826184,
          1.6804156157144226,
          1.7045440810462265,
          1.7286725463780308,
          1.752801011709835,
          1.7769294770416388,
          1.801057942373443,
          1.8251864077052469,
          1.849314873037051,
          1.873443338368855,
          1.897571803700659,
          1.921700269032463,
          1.945828734364267,
          1.969957199696071,
          1.994085665027875,
          2.018214130359679,
          2.0423425956914834,
          2.0664710610232873,
          2.090599526355091,
          2.1147279916868955,
          2.1388564570186994,
          2.1629849223505033,
          2.1871133876823072,
          2.2112418530141116,
          2.235370318345916,
          2.25949878367772,
          2.2836272490095237,
          2.3077557143413276,
          2.331884179673132,
          2.356012645004936,
          2.38014111033674,
          2.4042695756685437,
          2.428398041000348,
          2.452526506332152,
          2.476654971663956,
          2.50078343699576,
          2.524911902327564,
          2.549040367659368,
          2.5731688329911724,
          2.5972972983229763,
          2.62142576365478,
          2.6455542289865845,
          2.6696826943183884,
          2.6938111596501924,
          2.7179396249819963,
          2.7420680903138006,
          2.7661965556456045,
          2.7903250209774084,
          2.8144534863092123,
          2.8385819516410167
         ]
        },
        {
         "error_y": {
          "type": "constant",
          "value": 0.040875085150684935
         },
         "marker": {
          "color": "green"
         },
         "mode": "markers",
         "name": "Свинец",
         "type": "scatter",
         "x": [
          0.45,
          0.9,
          1.35,
          1.8,
          2.25,
          2.7,
          3.1500000000000004,
          3.6,
          4.05
         ],
         "y": [
          0.565631264588676,
          1.0763209339856872,
          1.6691316299726953,
          2.236448449802603,
          2.7610035093091656,
          3.1731531342860535,
          3.7226965795678724,
          4.177049895867313,
          4.61211841942906
         ]
        },
        {
         "line": {
          "color": "green"
         },
         "showlegend": false,
         "type": "scatter",
         "x": [
          0.45,
          0.4863636363636364,
          0.5227272727272727,
          0.5590909090909091,
          0.5954545454545455,
          0.6318181818181818,
          0.6681818181818182,
          0.7045454545454546,
          0.740909090909091,
          0.7772727272727273,
          0.8136363636363637,
          0.85,
          0.8863636363636364,
          0.9227272727272727,
          0.959090909090909,
          0.9954545454545454,
          1.0318181818181817,
          1.0681818181818181,
          1.1045454545454545,
          1.1409090909090909,
          1.1772727272727272,
          1.2136363636363636,
          1.25,
          1.2863636363636364,
          1.3227272727272728,
          1.3590909090909091,
          1.3954545454545455,
          1.4318181818181819,
          1.468181818181818,
          1.5045454545454544,
          1.5409090909090908,
          1.5772727272727272,
          1.6136363636363635,
          1.65,
          1.6863636363636363,
          1.7227272727272727,
          1.759090909090909,
          1.7954545454545454,
          1.8318181818181818,
          1.8681818181818182,
          1.9045454545454545,
          1.9409090909090907,
          1.977272727272727,
          2.0136363636363637,
          2.05,
          2.0863636363636364,
          2.1227272727272726,
          2.159090909090909,
          2.1954545454545453,
          2.231818181818182,
          2.268181818181818,
          2.3045454545454547,
          2.340909090909091,
          2.3772727272727274,
          2.4136363636363636,
          2.45,
          2.4863636363636363,
          2.522727272727273,
          2.559090909090909,
          2.5954545454545457,
          2.631818181818182,
          2.6681818181818184,
          2.7045454545454546,
          2.740909090909091,
          2.7772727272727273,
          2.8136363636363635,
          2.85,
          2.8863636363636362,
          2.922727272727273,
          2.959090909090909,
          2.9954545454545456,
          3.0318181818181817,
          3.0681818181818183,
          3.1045454545454545,
          3.140909090909091,
          3.1772727272727272,
          3.213636363636364,
          3.25,
          3.2863636363636366,
          3.3227272727272728,
          3.3590909090909093,
          3.3954545454545455,
          3.4318181818181817,
          3.4681818181818183,
          3.5045454545454544,
          3.540909090909091,
          3.577272727272727,
          3.6136363636363638,
          3.65,
          3.6863636363636365,
          3.7227272727272727,
          3.7590909090909093,
          3.7954545454545454,
          3.831818181818182,
          3.868181818181818,
          3.9045454545454548,
          3.940909090909091,
          3.977272727272727,
          4.013636363636364,
          4.05
         ],
         "y": [
          0.630485751511222,
          0.671606249947155,
          0.7127267483830879,
          0.7538472468190208,
          0.7949677452549538,
          0.8360882436908867,
          0.8772087421268198,
          0.9183292405627528,
          0.9594497389986857,
          1.0005702374346186,
          1.0416907358705516,
          1.0828112343064844,
          1.1239317327424174,
          1.1650522311783504,
          1.2061727296142832,
          1.2472932280502163,
          1.2884137264861493,
          1.3295342249220823,
          1.370654723358015,
          1.411775221793948,
          1.4528957202298811,
          1.4940162186658141,
          1.5351367171017472,
          1.57625721553768,
          1.617377713973613,
          1.658498212409546,
          1.699618710845479,
          1.7407392092814118,
          1.7818597077173446,
          1.8229802061532776,
          1.8641007045892106,
          1.9052212030251434,
          1.9463417014610764,
          1.9874621998970095,
          2.0285826983329422,
          2.0697031967688755,
          2.1108236952048083,
          2.151944193640741,
          2.193064692076674,
          2.234185190512607,
          2.27530568894854,
          2.3164261873844727,
          2.357546685820406,
          2.3986671842563387,
          2.4397876826922715,
          2.4809081811282048,
          2.5220286795641376,
          2.563149178000071,
          2.6042696764360036,
          2.645390174871937,
          2.6865106733078696,
          2.727631171743803,
          2.7687516701797352,
          2.8098721686156685,
          2.8509926670516013,
          2.8921131654875345,
          2.9332336639234673,
          2.9743541623594005,
          3.0154746607953333,
          3.0565951592312666,
          3.0977156576671994,
          3.1388361561031326,
          3.179956654539065,
          3.221077152974998,
          3.262197651410931,
          3.303318149846864,
          3.344438648282797,
          3.38555914671873,
          3.426679645154663,
          3.467800143590596,
          3.508920642026529,
          3.5500411404624614,
          3.5911616388983947,
          3.6322821373343275,
          3.6734026357702607,
          3.7145231342061935,
          3.7556436326421268,
          3.7967641310780595,
          3.837884629513993,
          3.8790051279499256,
          3.9201256263858584,
          3.961246124821791,
          4.002366623257724,
          4.043487121693658,
          4.08460762012959,
          4.125728118565523,
          4.166848617001456,
          4.207969115437389,
          4.249089613873322,
          4.290210112309255,
          4.331330610745188,
          4.372451109181121,
          4.413571607617054,
          4.454692106052987,
          4.495812604488919,
          4.536933102924853,
          4.578053601360786,
          4.619174099796719,
          4.660294598232651,
          4.701415096668584
         ]
        },
        {
         "error_y": {
          "type": "constant",
          "value": 0.020638929274498202
         },
         "marker": {
          "color": "blue"
         },
         "mode": "markers",
         "name": "Железо",
         "type": "scatter",
         "x": [
          1,
          2,
          3,
          4,
          5,
          6,
          7,
          8,
          9
         ],
         "y": [
          0.6042840583504849,
          1.176422280219443,
          1.763184984352184,
          2.2984601840279986,
          2.9177391395022148,
          3.3435739555962893,
          3.8287835754610646,
          4.414537424213762,
          4.953906989677506
         ]
        },
        {
         "line": {
          "color": "blue"
         },
         "showlegend": false,
         "type": "scatter",
         "x": [
          1,
          1.0808080808080809,
          1.1616161616161615,
          1.2424242424242424,
          1.3232323232323233,
          1.404040404040404,
          1.4848484848484849,
          1.5656565656565657,
          1.6464646464646466,
          1.7272727272727273,
          1.8080808080808082,
          1.8888888888888888,
          1.9696969696969697,
          2.0505050505050506,
          2.1313131313131315,
          2.212121212121212,
          2.2929292929292933,
          2.3737373737373737,
          2.4545454545454546,
          2.5353535353535355,
          2.6161616161616164,
          2.6969696969696972,
          2.7777777777777777,
          2.858585858585859,
          2.9393939393939394,
          3.0202020202020203,
          3.101010101010101,
          3.181818181818182,
          3.262626262626263,
          3.3434343434343434,
          3.4242424242424243,
          3.505050505050505,
          3.585858585858586,
          3.666666666666667,
          3.747474747474748,
          3.8282828282828287,
          3.909090909090909,
          3.98989898989899,
          4.070707070707071,
          4.151515151515152,
          4.232323232323233,
          4.313131313131313,
          4.3939393939393945,
          4.474747474747475,
          4.555555555555555,
          4.636363636363637,
          4.717171717171718,
          4.7979797979797985,
          4.878787878787879,
          4.95959595959596,
          5.040404040404041,
          5.121212121212122,
          5.202020202020202,
          5.282828282828283,
          5.363636363636364,
          5.444444444444445,
          5.525252525252526,
          5.606060606060606,
          5.686868686868687,
          5.767676767676768,
          5.848484848484849,
          5.92929292929293,
          6.01010101010101,
          6.090909090909092,
          6.171717171717172,
          6.252525252525253,
          6.333333333333334,
          6.414141414141414,
          6.494949494949496,
          6.575757575757576,
          6.6565656565656575,
          6.737373737373738,
          6.818181818181818,
          6.8989898989899,
          6.97979797979798,
          7.060606060606061,
          7.141414141414142,
          7.222222222222222,
          7.303030303030304,
          7.383838383838384,
          7.464646464646465,
          7.545454545454546,
          7.626262626262627,
          7.707070707070708,
          7.787878787878788,
          7.868686868686869,
          7.94949494949495,
          8.030303030303031,
          8.11111111111111,
          8.191919191919194,
          8.272727272727273,
          8.353535353535353,
          8.434343434343436,
          8.515151515151516,
          8.595959595959597,
          8.676767676767678,
          8.757575757575758,
          8.83838383838384,
          8.91919191919192,
          9
         ],
         "y": [
          0.658600413861633,
          0.7020874820246998,
          0.7455745501877666,
          0.7890616183508334,
          0.8325486865139002,
          0.876035754676967,
          0.9195228228400338,
          0.9630098910031006,
          1.0064969591661674,
          1.0499840273292342,
          1.093471095492301,
          1.1369581636553676,
          1.1804452318184344,
          1.2239322999815014,
          1.2674193681445682,
          1.3109064363076348,
          1.3543935044707018,
          1.3978805726337684,
          1.4413676407968352,
          1.4848547089599022,
          1.528341777122969,
          1.5718288452860358,
          1.6153159134491024,
          1.6588029816121694,
          1.702290049775236,
          1.745777117938303,
          1.7892641861013698,
          1.8327512542644366,
          1.8762383224275034,
          1.91972539059057,
          1.9632124587536368,
          2.006699526916704,
          2.050186595079771,
          2.0936736632428374,
          2.1371607314059045,
          2.1806477995689715,
          2.224134867732038,
          2.2676219358951046,
          2.3111090040581717,
          2.3545960722212387,
          2.3980831403843053,
          2.441570208547372,
          2.485057276710439,
          2.5285443448735054,
          2.572031413036572,
          2.615518481199639,
          2.6590055493627065,
          2.702492617525773,
          2.7459796856888397,
          2.7894667538519067,
          2.8329538220149733,
          2.8764408901780403,
          2.919927958341107,
          2.9634150265041734,
          3.0069020946672405,
          3.050389162830307,
          3.093876230993374,
          3.1373632991564406,
          3.180850367319507,
          3.2243374354825747,
          3.2678245036456413,
          3.3113115718087083,
          3.354798639971775,
          3.398285708134842,
          3.4417727762979085,
          3.485259844460975,
          3.528746912624042,
          3.5722339807871086,
          3.6157210489501757,
          3.6592081171132422,
          3.7026951852763093,
          3.7461822534393763,
          3.789669321602443,
          3.83315638976551,
          3.8766434579285765,
          3.9201305260916435,
          3.96361759425471,
          4.007104662417777,
          4.050591730580844,
          4.09407879874391,
          4.137565866906977,
          4.181052935070044,
          4.224540003233111,
          4.268027071396177,
          4.311514139559244,
          4.355001207722311,
          4.398488275885377,
          4.441975344048444,
          4.48546241221151,
          4.528949480374579,
          4.572436548537645,
          4.615923616700711,
          4.659410684863779,
          4.702897753026845,
          4.7463848211899125,
          4.7898718893529795,
          4.833358957516046,
          4.876846025679113,
          4.92033309384218,
          4.963820162005246
         ]
        }
       ],
       "layout": {
        "template": {
         "data": {
          "bar": [
           {
            "error_x": {
             "color": "#2a3f5f"
            },
            "error_y": {
             "color": "#2a3f5f"
            },
            "marker": {
             "line": {
              "color": "#E5ECF6",
              "width": 0.5
             }
            },
            "type": "bar"
           }
          ],
          "barpolar": [
           {
            "marker": {
             "line": {
              "color": "#E5ECF6",
              "width": 0.5
             }
            },
            "type": "barpolar"
           }
          ],
          "carpet": [
           {
            "aaxis": {
             "endlinecolor": "#2a3f5f",
             "gridcolor": "white",
             "linecolor": "white",
             "minorgridcolor": "white",
             "startlinecolor": "#2a3f5f"
            },
            "baxis": {
             "endlinecolor": "#2a3f5f",
             "gridcolor": "white",
             "linecolor": "white",
             "minorgridcolor": "white",
             "startlinecolor": "#2a3f5f"
            },
            "type": "carpet"
           }
          ],
          "choropleth": [
           {
            "colorbar": {
             "outlinewidth": 0,
             "ticks": ""
            },
            "type": "choropleth"
           }
          ],
          "contour": [
           {
            "colorbar": {
             "outlinewidth": 0,
             "ticks": ""
            },
            "colorscale": [
             [
              0,
              "#0d0887"
             ],
             [
              0.1111111111111111,
              "#46039f"
             ],
             [
              0.2222222222222222,
              "#7201a8"
             ],
             [
              0.3333333333333333,
              "#9c179e"
             ],
             [
              0.4444444444444444,
              "#bd3786"
             ],
             [
              0.5555555555555556,
              "#d8576b"
             ],
             [
              0.6666666666666666,
              "#ed7953"
             ],
             [
              0.7777777777777778,
              "#fb9f3a"
             ],
             [
              0.8888888888888888,
              "#fdca26"
             ],
             [
              1,
              "#f0f921"
             ]
            ],
            "type": "contour"
           }
          ],
          "contourcarpet": [
           {
            "colorbar": {
             "outlinewidth": 0,
             "ticks": ""
            },
            "type": "contourcarpet"
           }
          ],
          "heatmap": [
           {
            "colorbar": {
             "outlinewidth": 0,
             "ticks": ""
            },
            "colorscale": [
             [
              0,
              "#0d0887"
             ],
             [
              0.1111111111111111,
              "#46039f"
             ],
             [
              0.2222222222222222,
              "#7201a8"
             ],
             [
              0.3333333333333333,
              "#9c179e"
             ],
             [
              0.4444444444444444,
              "#bd3786"
             ],
             [
              0.5555555555555556,
              "#d8576b"
             ],
             [
              0.6666666666666666,
              "#ed7953"
             ],
             [
              0.7777777777777778,
              "#fb9f3a"
             ],
             [
              0.8888888888888888,
              "#fdca26"
             ],
             [
              1,
              "#f0f921"
             ]
            ],
            "type": "heatmap"
           }
          ],
          "heatmapgl": [
           {
            "colorbar": {
             "outlinewidth": 0,
             "ticks": ""
            },
            "colorscale": [
             [
              0,
              "#0d0887"
             ],
             [
              0.1111111111111111,
              "#46039f"
             ],
             [
              0.2222222222222222,
              "#7201a8"
             ],
             [
              0.3333333333333333,
              "#9c179e"
             ],
             [
              0.4444444444444444,
              "#bd3786"
             ],
             [
              0.5555555555555556,
              "#d8576b"
             ],
             [
              0.6666666666666666,
              "#ed7953"
             ],
             [
              0.7777777777777778,
              "#fb9f3a"
             ],
             [
              0.8888888888888888,
              "#fdca26"
             ],
             [
              1,
              "#f0f921"
             ]
            ],
            "type": "heatmapgl"
           }
          ],
          "histogram": [
           {
            "marker": {
             "colorbar": {
              "outlinewidth": 0,
              "ticks": ""
             }
            },
            "type": "histogram"
           }
          ],
          "histogram2d": [
           {
            "colorbar": {
             "outlinewidth": 0,
             "ticks": ""
            },
            "colorscale": [
             [
              0,
              "#0d0887"
             ],
             [
              0.1111111111111111,
              "#46039f"
             ],
             [
              0.2222222222222222,
              "#7201a8"
             ],
             [
              0.3333333333333333,
              "#9c179e"
             ],
             [
              0.4444444444444444,
              "#bd3786"
             ],
             [
              0.5555555555555556,
              "#d8576b"
             ],
             [
              0.6666666666666666,
              "#ed7953"
             ],
             [
              0.7777777777777778,
              "#fb9f3a"
             ],
             [
              0.8888888888888888,
              "#fdca26"
             ],
             [
              1,
              "#f0f921"
             ]
            ],
            "type": "histogram2d"
           }
          ],
          "histogram2dcontour": [
           {
            "colorbar": {
             "outlinewidth": 0,
             "ticks": ""
            },
            "colorscale": [
             [
              0,
              "#0d0887"
             ],
             [
              0.1111111111111111,
              "#46039f"
             ],
             [
              0.2222222222222222,
              "#7201a8"
             ],
             [
              0.3333333333333333,
              "#9c179e"
             ],
             [
              0.4444444444444444,
              "#bd3786"
             ],
             [
              0.5555555555555556,
              "#d8576b"
             ],
             [
              0.6666666666666666,
              "#ed7953"
             ],
             [
              0.7777777777777778,
              "#fb9f3a"
             ],
             [
              0.8888888888888888,
              "#fdca26"
             ],
             [
              1,
              "#f0f921"
             ]
            ],
            "type": "histogram2dcontour"
           }
          ],
          "mesh3d": [
           {
            "colorbar": {
             "outlinewidth": 0,
             "ticks": ""
            },
            "type": "mesh3d"
           }
          ],
          "parcoords": [
           {
            "line": {
             "colorbar": {
              "outlinewidth": 0,
              "ticks": ""
             }
            },
            "type": "parcoords"
           }
          ],
          "scatter": [
           {
            "marker": {
             "colorbar": {
              "outlinewidth": 0,
              "ticks": ""
             }
            },
            "type": "scatter"
           }
          ],
          "scatter3d": [
           {
            "line": {
             "colorbar": {
              "outlinewidth": 0,
              "ticks": ""
             }
            },
            "marker": {
             "colorbar": {
              "outlinewidth": 0,
              "ticks": ""
             }
            },
            "type": "scatter3d"
           }
          ],
          "scattercarpet": [
           {
            "marker": {
             "colorbar": {
              "outlinewidth": 0,
              "ticks": ""
             }
            },
            "type": "scattercarpet"
           }
          ],
          "scattergeo": [
           {
            "marker": {
             "colorbar": {
              "outlinewidth": 0,
              "ticks": ""
             }
            },
            "type": "scattergeo"
           }
          ],
          "scattergl": [
           {
            "marker": {
             "colorbar": {
              "outlinewidth": 0,
              "ticks": ""
             }
            },
            "type": "scattergl"
           }
          ],
          "scattermapbox": [
           {
            "marker": {
             "colorbar": {
              "outlinewidth": 0,
              "ticks": ""
             }
            },
            "type": "scattermapbox"
           }
          ],
          "scatterpolar": [
           {
            "marker": {
             "colorbar": {
              "outlinewidth": 0,
              "ticks": ""
             }
            },
            "type": "scatterpolar"
           }
          ],
          "scatterpolargl": [
           {
            "marker": {
             "colorbar": {
              "outlinewidth": 0,
              "ticks": ""
             }
            },
            "type": "scatterpolargl"
           }
          ],
          "scatterternary": [
           {
            "marker": {
             "colorbar": {
              "outlinewidth": 0,
              "ticks": ""
             }
            },
            "type": "scatterternary"
           }
          ],
          "surface": [
           {
            "colorbar": {
             "outlinewidth": 0,
             "ticks": ""
            },
            "colorscale": [
             [
              0,
              "#0d0887"
             ],
             [
              0.1111111111111111,
              "#46039f"
             ],
             [
              0.2222222222222222,
              "#7201a8"
             ],
             [
              0.3333333333333333,
              "#9c179e"
             ],
             [
              0.4444444444444444,
              "#bd3786"
             ],
             [
              0.5555555555555556,
              "#d8576b"
             ],
             [
              0.6666666666666666,
              "#ed7953"
             ],
             [
              0.7777777777777778,
              "#fb9f3a"
             ],
             [
              0.8888888888888888,
              "#fdca26"
             ],
             [
              1,
              "#f0f921"
             ]
            ],
            "type": "surface"
           }
          ],
          "table": [
           {
            "cells": {
             "fill": {
              "color": "#EBF0F8"
             },
             "line": {
              "color": "white"
             }
            },
            "header": {
             "fill": {
              "color": "#C8D4E3"
             },
             "line": {
              "color": "white"
             }
            },
            "type": "table"
           }
          ]
         },
         "layout": {
          "annotationdefaults": {
           "arrowcolor": "#2a3f5f",
           "arrowhead": 0,
           "arrowwidth": 1
          },
          "colorscale": {
           "diverging": [
            [
             0,
             "#8e0152"
            ],
            [
             0.1,
             "#c51b7d"
            ],
            [
             0.2,
             "#de77ae"
            ],
            [
             0.3,
             "#f1b6da"
            ],
            [
             0.4,
             "#fde0ef"
            ],
            [
             0.5,
             "#f7f7f7"
            ],
            [
             0.6,
             "#e6f5d0"
            ],
            [
             0.7,
             "#b8e186"
            ],
            [
             0.8,
             "#7fbc41"
            ],
            [
             0.9,
             "#4d9221"
            ],
            [
             1,
             "#276419"
            ]
           ],
           "sequential": [
            [
             0,
             "#0d0887"
            ],
            [
             0.1111111111111111,
             "#46039f"
            ],
            [
             0.2222222222222222,
             "#7201a8"
            ],
            [
             0.3333333333333333,
             "#9c179e"
            ],
            [
             0.4444444444444444,
             "#bd3786"
            ],
            [
             0.5555555555555556,
             "#d8576b"
            ],
            [
             0.6666666666666666,
             "#ed7953"
            ],
            [
             0.7777777777777778,
             "#fb9f3a"
            ],
            [
             0.8888888888888888,
             "#fdca26"
            ],
            [
             1,
             "#f0f921"
            ]
           ],
           "sequentialminus": [
            [
             0,
             "#0d0887"
            ],
            [
             0.1111111111111111,
             "#46039f"
            ],
            [
             0.2222222222222222,
             "#7201a8"
            ],
            [
             0.3333333333333333,
             "#9c179e"
            ],
            [
             0.4444444444444444,
             "#bd3786"
            ],
            [
             0.5555555555555556,
             "#d8576b"
            ],
            [
             0.6666666666666666,
             "#ed7953"
            ],
            [
             0.7777777777777778,
             "#fb9f3a"
            ],
            [
             0.8888888888888888,
             "#fdca26"
            ],
            [
             1,
             "#f0f921"
            ]
           ]
          },
          "colorway": [
           "#636efa",
           "#EF553B",
           "#00cc96",
           "#ab63fa",
           "#FFA15A",
           "#19d3f3",
           "#FF6692",
           "#B6E880",
           "#FF97FF",
           "#FECB52"
          ],
          "font": {
           "color": "#2a3f5f"
          },
          "geo": {
           "bgcolor": "white",
           "lakecolor": "white",
           "landcolor": "#E5ECF6",
           "showlakes": true,
           "showland": true,
           "subunitcolor": "white"
          },
          "hoverlabel": {
           "align": "left"
          },
          "hovermode": "closest",
          "mapbox": {
           "style": "light"
          },
          "paper_bgcolor": "white",
          "plot_bgcolor": "#E5ECF6",
          "polar": {
           "angularaxis": {
            "gridcolor": "white",
            "linecolor": "white",
            "ticks": ""
           },
           "bgcolor": "#E5ECF6",
           "radialaxis": {
            "gridcolor": "white",
            "linecolor": "white",
            "ticks": ""
           }
          },
          "scene": {
           "xaxis": {
            "backgroundcolor": "#E5ECF6",
            "gridcolor": "white",
            "gridwidth": 2,
            "linecolor": "white",
            "showbackground": true,
            "ticks": "",
            "zerolinecolor": "white"
           },
           "yaxis": {
            "backgroundcolor": "#E5ECF6",
            "gridcolor": "white",
            "gridwidth": 2,
            "linecolor": "white",
            "showbackground": true,
            "ticks": "",
            "zerolinecolor": "white"
           },
           "zaxis": {
            "backgroundcolor": "#E5ECF6",
            "gridcolor": "white",
            "gridwidth": 2,
            "linecolor": "white",
            "showbackground": true,
            "ticks": "",
            "zerolinecolor": "white"
           }
          },
          "shapedefaults": {
           "line": {
            "color": "#2a3f5f"
           }
          },
          "ternary": {
           "aaxis": {
            "gridcolor": "white",
            "linecolor": "white",
            "ticks": ""
           },
           "baxis": {
            "gridcolor": "white",
            "linecolor": "white",
            "ticks": ""
           },
           "bgcolor": "#E5ECF6",
           "caxis": {
            "gridcolor": "white",
            "linecolor": "white",
            "ticks": ""
           }
          },
          "title": {
           "x": 0.05
          },
          "xaxis": {
           "automargin": true,
           "gridcolor": "white",
           "linecolor": "white",
           "ticks": "",
           "zerolinecolor": "white",
           "zerolinewidth": 2
          },
          "yaxis": {
           "automargin": true,
           "gridcolor": "white",
           "linecolor": "white",
           "ticks": "",
           "zerolinecolor": "white",
           "zerolinewidth": 2
          }
         }
        },
        "xaxis": {
         "title": {
          "text": "Длина(cm)"
         }
        },
        "yaxis": {
         "title": {
          "text": "ln(N)"
         }
        }
       }
      },
      "text/html": [
       "<div>\n",
       "        \n",
       "        \n",
       "            <div id=\"4f4dd95d-1b51-4b2e-8012-63113ea562a2\" class=\"plotly-graph-div\" style=\"height:525px; width:100%;\"></div>\n",
       "            <script type=\"text/javascript\">\n",
       "                require([\"plotly\"], function(Plotly) {\n",
       "                    window.PLOTLYENV=window.PLOTLYENV || {};\n",
       "                    \n",
       "                if (document.getElementById(\"4f4dd95d-1b51-4b2e-8012-63113ea562a2\")) {\n",
       "                    Plotly.newPlot(\n",
       "                        '4f4dd95d-1b51-4b2e-8012-63113ea562a2',\n",
       "                        [{\"error_y\": {\"type\": \"constant\", \"value\": 0.0065833110872393075}, \"marker\": {\"color\": \"red\"}, \"mode\": \"markers\", \"name\": \"\\u0410\\u043b\\u043b\\u044e\\u043c\\u0438\\u043d\\u0438\\u0439\", \"type\": \"scatter\", \"x\": [2, 4, 6, 8, 10, 12, 14], \"y\": [0.44270311077591773, 0.8436694913870894, 1.2554467128992124, 1.6552548531211952, 2.0454575003613846, 2.4282977554834293, 2.8387309999887878]}, {\"line\": {\"color\": \"red\"}, \"showlegend\": false, \"type\": \"scatter\", \"x\": [2.0, 2.121212121212121, 2.242424242424242, 2.3636363636363638, 2.484848484848485, 2.606060606060606, 2.7272727272727275, 2.8484848484848486, 2.9696969696969697, 3.090909090909091, 3.212121212121212, 3.3333333333333335, 3.4545454545454546, 3.5757575757575757, 3.6969696969696972, 3.8181818181818183, 3.9393939393939394, 4.0606060606060606, 4.181818181818182, 4.303030303030303, 4.424242424242424, 4.545454545454545, 4.666666666666667, 4.787878787878788, 4.909090909090909, 5.03030303030303, 5.151515151515151, 5.272727272727273, 5.3939393939393945, 5.515151515151516, 5.636363636363637, 5.757575757575758, 5.878787878787879, 6.0, 6.121212121212121, 6.242424242424242, 6.363636363636363, 6.484848484848485, 6.606060606060606, 6.7272727272727275, 6.848484848484849, 6.96969696969697, 7.090909090909091, 7.212121212121212, 7.333333333333334, 7.454545454545455, 7.575757575757576, 7.696969696969697, 7.818181818181818, 7.9393939393939394, 8.06060606060606, 8.181818181818182, 8.303030303030303, 8.424242424242426, 8.545454545454547, 8.666666666666668, 8.787878787878789, 8.90909090909091, 9.030303030303031, 9.151515151515152, 9.272727272727273, 9.393939393939394, 9.515151515151516, 9.636363636363637, 9.757575757575758, 9.878787878787879, 10.0, 10.121212121212121, 10.242424242424242, 10.363636363636363, 10.484848484848484, 10.606060606060606, 10.727272727272727, 10.84848484848485, 10.96969696969697, 11.090909090909092, 11.212121212121213, 11.333333333333334, 11.454545454545455, 11.575757575757576, 11.696969696969697, 11.818181818181818, 11.93939393939394, 12.06060606060606, 12.181818181818182, 12.303030303030303, 12.424242424242424, 12.545454545454545, 12.666666666666668, 12.787878787878789, 12.90909090909091, 13.030303030303031, 13.151515151515152, 13.272727272727273, 13.393939393939394, 13.515151515151516, 13.636363636363637, 13.757575757575758, 13.878787878787879, 14.0], \"y\": [0.4498638837924167, 0.4739923491242207, 0.49812081445602474, 0.5222492797878289, 0.5463777451196329, 0.5705062104514369, 0.594634675783241, 0.618763141115045, 0.6428916064468491, 0.6670200717786531, 0.6911485371104571, 0.7152770024422612, 0.7394054677740652, 0.7635339331058693, 0.7876623984376734, 0.8117908637694774, 0.8359193291012814, 0.8600477944330853, 0.8841762597648893, 0.9083047250966934, 0.9324331904284974, 0.9565616557603014, 0.9806901210921056, 1.0048185864239096, 1.0289470517557135, 1.0530755170875175, 1.0772039824193216, 1.1013324477511257, 1.1254609130829298, 1.1495893784147337, 1.1737178437465379, 1.1978463090783418, 1.221974774410146, 1.2461032397419498, 1.270231705073754, 1.2943601704055578, 1.318488635737362, 1.342617101069166, 1.3667455664009702, 1.3908740317327741, 1.4150024970645783, 1.4391309623963822, 1.463259427728186, 1.4873878930599902, 1.5115163583917943, 1.5356448237235985, 1.5597732890554024, 1.5839017543872065, 1.6080302197190104, 1.6321586850508145, 1.6562871503826184, 1.6804156157144226, 1.7045440810462265, 1.7286725463780308, 1.752801011709835, 1.7769294770416388, 1.801057942373443, 1.8251864077052469, 1.849314873037051, 1.873443338368855, 1.897571803700659, 1.921700269032463, 1.945828734364267, 1.969957199696071, 1.994085665027875, 2.018214130359679, 2.0423425956914834, 2.0664710610232873, 2.090599526355091, 2.1147279916868955, 2.1388564570186994, 2.1629849223505033, 2.1871133876823072, 2.2112418530141116, 2.235370318345916, 2.25949878367772, 2.2836272490095237, 2.3077557143413276, 2.331884179673132, 2.356012645004936, 2.38014111033674, 2.4042695756685437, 2.428398041000348, 2.452526506332152, 2.476654971663956, 2.50078343699576, 2.524911902327564, 2.549040367659368, 2.5731688329911724, 2.5972972983229763, 2.62142576365478, 2.6455542289865845, 2.6696826943183884, 2.6938111596501924, 2.7179396249819963, 2.7420680903138006, 2.7661965556456045, 2.7903250209774084, 2.8144534863092123, 2.8385819516410167]}, {\"error_y\": {\"type\": \"constant\", \"value\": 0.040875085150684935}, \"marker\": {\"color\": \"green\"}, \"mode\": \"markers\", \"name\": \"\\u0421\\u0432\\u0438\\u043d\\u0435\\u0446\", \"type\": \"scatter\", \"x\": [0.45, 0.9, 1.35, 1.8, 2.25, 2.7, 3.1500000000000004, 3.6, 4.05], \"y\": [0.565631264588676, 1.0763209339856872, 1.6691316299726953, 2.236448449802603, 2.7610035093091656, 3.1731531342860535, 3.7226965795678724, 4.177049895867313, 4.61211841942906]}, {\"line\": {\"color\": \"green\"}, \"showlegend\": false, \"type\": \"scatter\", \"x\": [0.45, 0.4863636363636364, 0.5227272727272727, 0.5590909090909091, 0.5954545454545455, 0.6318181818181818, 0.6681818181818182, 0.7045454545454546, 0.740909090909091, 0.7772727272727273, 0.8136363636363637, 0.85, 0.8863636363636364, 0.9227272727272727, 0.959090909090909, 0.9954545454545454, 1.0318181818181817, 1.0681818181818181, 1.1045454545454545, 1.1409090909090909, 1.1772727272727272, 1.2136363636363636, 1.25, 1.2863636363636364, 1.3227272727272728, 1.3590909090909091, 1.3954545454545455, 1.4318181818181819, 1.468181818181818, 1.5045454545454544, 1.5409090909090908, 1.5772727272727272, 1.6136363636363635, 1.65, 1.6863636363636363, 1.7227272727272727, 1.759090909090909, 1.7954545454545454, 1.8318181818181818, 1.8681818181818182, 1.9045454545454545, 1.9409090909090907, 1.977272727272727, 2.0136363636363637, 2.05, 2.0863636363636364, 2.1227272727272726, 2.159090909090909, 2.1954545454545453, 2.231818181818182, 2.268181818181818, 2.3045454545454547, 2.340909090909091, 2.3772727272727274, 2.4136363636363636, 2.45, 2.4863636363636363, 2.522727272727273, 2.559090909090909, 2.5954545454545457, 2.631818181818182, 2.6681818181818184, 2.7045454545454546, 2.740909090909091, 2.7772727272727273, 2.8136363636363635, 2.85, 2.8863636363636362, 2.922727272727273, 2.959090909090909, 2.9954545454545456, 3.0318181818181817, 3.0681818181818183, 3.1045454545454545, 3.140909090909091, 3.1772727272727272, 3.213636363636364, 3.25, 3.2863636363636366, 3.3227272727272728, 3.3590909090909093, 3.3954545454545455, 3.4318181818181817, 3.4681818181818183, 3.5045454545454544, 3.540909090909091, 3.577272727272727, 3.6136363636363638, 3.65, 3.6863636363636365, 3.7227272727272727, 3.7590909090909093, 3.7954545454545454, 3.831818181818182, 3.868181818181818, 3.9045454545454548, 3.940909090909091, 3.977272727272727, 4.013636363636364, 4.05], \"y\": [0.630485751511222, 0.671606249947155, 0.7127267483830879, 0.7538472468190208, 0.7949677452549538, 0.8360882436908867, 0.8772087421268198, 0.9183292405627528, 0.9594497389986857, 1.0005702374346186, 1.0416907358705516, 1.0828112343064844, 1.1239317327424174, 1.1650522311783504, 1.2061727296142832, 1.2472932280502163, 1.2884137264861493, 1.3295342249220823, 1.370654723358015, 1.411775221793948, 1.4528957202298811, 1.4940162186658141, 1.5351367171017472, 1.57625721553768, 1.617377713973613, 1.658498212409546, 1.699618710845479, 1.7407392092814118, 1.7818597077173446, 1.8229802061532776, 1.8641007045892106, 1.9052212030251434, 1.9463417014610764, 1.9874621998970095, 2.0285826983329422, 2.0697031967688755, 2.1108236952048083, 2.151944193640741, 2.193064692076674, 2.234185190512607, 2.27530568894854, 2.3164261873844727, 2.357546685820406, 2.3986671842563387, 2.4397876826922715, 2.4809081811282048, 2.5220286795641376, 2.563149178000071, 2.6042696764360036, 2.645390174871937, 2.6865106733078696, 2.727631171743803, 2.7687516701797352, 2.8098721686156685, 2.8509926670516013, 2.8921131654875345, 2.9332336639234673, 2.9743541623594005, 3.0154746607953333, 3.0565951592312666, 3.0977156576671994, 3.1388361561031326, 3.179956654539065, 3.221077152974998, 3.262197651410931, 3.303318149846864, 3.344438648282797, 3.38555914671873, 3.426679645154663, 3.467800143590596, 3.508920642026529, 3.5500411404624614, 3.5911616388983947, 3.6322821373343275, 3.6734026357702607, 3.7145231342061935, 3.7556436326421268, 3.7967641310780595, 3.837884629513993, 3.8790051279499256, 3.9201256263858584, 3.961246124821791, 4.002366623257724, 4.043487121693658, 4.08460762012959, 4.125728118565523, 4.166848617001456, 4.207969115437389, 4.249089613873322, 4.290210112309255, 4.331330610745188, 4.372451109181121, 4.413571607617054, 4.454692106052987, 4.495812604488919, 4.536933102924853, 4.578053601360786, 4.619174099796719, 4.660294598232651, 4.701415096668584]}, {\"error_y\": {\"type\": \"constant\", \"value\": 0.020638929274498202}, \"marker\": {\"color\": \"blue\"}, \"mode\": \"markers\", \"name\": \"\\u0416\\u0435\\u043b\\u0435\\u0437\\u043e\", \"type\": \"scatter\", \"x\": [1, 2, 3, 4, 5, 6, 7, 8, 9], \"y\": [0.6042840583504849, 1.176422280219443, 1.763184984352184, 2.2984601840279986, 2.9177391395022148, 3.3435739555962893, 3.8287835754610646, 4.414537424213762, 4.953906989677506]}, {\"line\": {\"color\": \"blue\"}, \"showlegend\": false, \"type\": \"scatter\", \"x\": [1.0, 1.0808080808080809, 1.1616161616161615, 1.2424242424242424, 1.3232323232323233, 1.404040404040404, 1.4848484848484849, 1.5656565656565657, 1.6464646464646466, 1.7272727272727273, 1.8080808080808082, 1.8888888888888888, 1.9696969696969697, 2.0505050505050506, 2.1313131313131315, 2.212121212121212, 2.2929292929292933, 2.3737373737373737, 2.4545454545454546, 2.5353535353535355, 2.6161616161616164, 2.6969696969696972, 2.7777777777777777, 2.858585858585859, 2.9393939393939394, 3.0202020202020203, 3.101010101010101, 3.181818181818182, 3.262626262626263, 3.3434343434343434, 3.4242424242424243, 3.505050505050505, 3.585858585858586, 3.666666666666667, 3.747474747474748, 3.8282828282828287, 3.909090909090909, 3.98989898989899, 4.070707070707071, 4.151515151515152, 4.232323232323233, 4.313131313131313, 4.3939393939393945, 4.474747474747475, 4.555555555555555, 4.636363636363637, 4.717171717171718, 4.7979797979797985, 4.878787878787879, 4.95959595959596, 5.040404040404041, 5.121212121212122, 5.202020202020202, 5.282828282828283, 5.363636363636364, 5.444444444444445, 5.525252525252526, 5.606060606060606, 5.686868686868687, 5.767676767676768, 5.848484848484849, 5.92929292929293, 6.01010101010101, 6.090909090909092, 6.171717171717172, 6.252525252525253, 6.333333333333334, 6.414141414141414, 6.494949494949496, 6.575757575757576, 6.6565656565656575, 6.737373737373738, 6.818181818181818, 6.8989898989899, 6.97979797979798, 7.060606060606061, 7.141414141414142, 7.222222222222222, 7.303030303030304, 7.383838383838384, 7.464646464646465, 7.545454545454546, 7.626262626262627, 7.707070707070708, 7.787878787878788, 7.868686868686869, 7.94949494949495, 8.030303030303031, 8.11111111111111, 8.191919191919194, 8.272727272727273, 8.353535353535353, 8.434343434343436, 8.515151515151516, 8.595959595959597, 8.676767676767678, 8.757575757575758, 8.83838383838384, 8.91919191919192, 9.0], \"y\": [0.658600413861633, 0.7020874820246998, 0.7455745501877666, 0.7890616183508334, 0.8325486865139002, 0.876035754676967, 0.9195228228400338, 0.9630098910031006, 1.0064969591661674, 1.0499840273292342, 1.093471095492301, 1.1369581636553676, 1.1804452318184344, 1.2239322999815014, 1.2674193681445682, 1.3109064363076348, 1.3543935044707018, 1.3978805726337684, 1.4413676407968352, 1.4848547089599022, 1.528341777122969, 1.5718288452860358, 1.6153159134491024, 1.6588029816121694, 1.702290049775236, 1.745777117938303, 1.7892641861013698, 1.8327512542644366, 1.8762383224275034, 1.91972539059057, 1.9632124587536368, 2.006699526916704, 2.050186595079771, 2.0936736632428374, 2.1371607314059045, 2.1806477995689715, 2.224134867732038, 2.2676219358951046, 2.3111090040581717, 2.3545960722212387, 2.3980831403843053, 2.441570208547372, 2.485057276710439, 2.5285443448735054, 2.572031413036572, 2.615518481199639, 2.6590055493627065, 2.702492617525773, 2.7459796856888397, 2.7894667538519067, 2.8329538220149733, 2.8764408901780403, 2.919927958341107, 2.9634150265041734, 3.0069020946672405, 3.050389162830307, 3.093876230993374, 3.1373632991564406, 3.180850367319507, 3.2243374354825747, 3.2678245036456413, 3.3113115718087083, 3.354798639971775, 3.398285708134842, 3.4417727762979085, 3.485259844460975, 3.528746912624042, 3.5722339807871086, 3.6157210489501757, 3.6592081171132422, 3.7026951852763093, 3.7461822534393763, 3.789669321602443, 3.83315638976551, 3.8766434579285765, 3.9201305260916435, 3.96361759425471, 4.007104662417777, 4.050591730580844, 4.09407879874391, 4.137565866906977, 4.181052935070044, 4.224540003233111, 4.268027071396177, 4.311514139559244, 4.355001207722311, 4.398488275885377, 4.441975344048444, 4.48546241221151, 4.528949480374579, 4.572436548537645, 4.615923616700711, 4.659410684863779, 4.702897753026845, 4.7463848211899125, 4.7898718893529795, 4.833358957516046, 4.876846025679113, 4.92033309384218, 4.963820162005246]}],\n",
       "                        {\"template\": {\"data\": {\"bar\": [{\"error_x\": {\"color\": \"#2a3f5f\"}, \"error_y\": {\"color\": \"#2a3f5f\"}, \"marker\": {\"line\": {\"color\": \"#E5ECF6\", \"width\": 0.5}}, \"type\": \"bar\"}], \"barpolar\": [{\"marker\": {\"line\": {\"color\": \"#E5ECF6\", \"width\": 0.5}}, \"type\": \"barpolar\"}], \"carpet\": [{\"aaxis\": {\"endlinecolor\": \"#2a3f5f\", \"gridcolor\": \"white\", \"linecolor\": \"white\", \"minorgridcolor\": \"white\", \"startlinecolor\": \"#2a3f5f\"}, \"baxis\": {\"endlinecolor\": \"#2a3f5f\", \"gridcolor\": \"white\", \"linecolor\": \"white\", \"minorgridcolor\": \"white\", \"startlinecolor\": \"#2a3f5f\"}, \"type\": \"carpet\"}], \"choropleth\": [{\"colorbar\": {\"outlinewidth\": 0, \"ticks\": \"\"}, \"type\": \"choropleth\"}], \"contour\": [{\"colorbar\": {\"outlinewidth\": 0, \"ticks\": \"\"}, \"colorscale\": [[0.0, \"#0d0887\"], [0.1111111111111111, \"#46039f\"], [0.2222222222222222, \"#7201a8\"], [0.3333333333333333, \"#9c179e\"], [0.4444444444444444, \"#bd3786\"], [0.5555555555555556, \"#d8576b\"], [0.6666666666666666, \"#ed7953\"], [0.7777777777777778, \"#fb9f3a\"], [0.8888888888888888, \"#fdca26\"], [1.0, \"#f0f921\"]], \"type\": \"contour\"}], \"contourcarpet\": [{\"colorbar\": {\"outlinewidth\": 0, \"ticks\": \"\"}, \"type\": \"contourcarpet\"}], \"heatmap\": [{\"colorbar\": {\"outlinewidth\": 0, \"ticks\": \"\"}, \"colorscale\": [[0.0, \"#0d0887\"], [0.1111111111111111, \"#46039f\"], [0.2222222222222222, \"#7201a8\"], [0.3333333333333333, \"#9c179e\"], [0.4444444444444444, \"#bd3786\"], [0.5555555555555556, \"#d8576b\"], [0.6666666666666666, \"#ed7953\"], [0.7777777777777778, \"#fb9f3a\"], [0.8888888888888888, \"#fdca26\"], [1.0, \"#f0f921\"]], \"type\": \"heatmap\"}], \"heatmapgl\": [{\"colorbar\": {\"outlinewidth\": 0, \"ticks\": \"\"}, \"colorscale\": [[0.0, \"#0d0887\"], [0.1111111111111111, \"#46039f\"], [0.2222222222222222, \"#7201a8\"], [0.3333333333333333, \"#9c179e\"], [0.4444444444444444, \"#bd3786\"], [0.5555555555555556, \"#d8576b\"], [0.6666666666666666, \"#ed7953\"], [0.7777777777777778, \"#fb9f3a\"], [0.8888888888888888, \"#fdca26\"], [1.0, \"#f0f921\"]], \"type\": \"heatmapgl\"}], \"histogram\": [{\"marker\": {\"colorbar\": {\"outlinewidth\": 0, \"ticks\": \"\"}}, \"type\": \"histogram\"}], \"histogram2d\": [{\"colorbar\": {\"outlinewidth\": 0, \"ticks\": \"\"}, \"colorscale\": [[0.0, \"#0d0887\"], [0.1111111111111111, \"#46039f\"], [0.2222222222222222, \"#7201a8\"], [0.3333333333333333, \"#9c179e\"], [0.4444444444444444, \"#bd3786\"], [0.5555555555555556, \"#d8576b\"], [0.6666666666666666, \"#ed7953\"], [0.7777777777777778, \"#fb9f3a\"], [0.8888888888888888, \"#fdca26\"], [1.0, \"#f0f921\"]], \"type\": \"histogram2d\"}], \"histogram2dcontour\": [{\"colorbar\": {\"outlinewidth\": 0, \"ticks\": \"\"}, \"colorscale\": [[0.0, \"#0d0887\"], [0.1111111111111111, \"#46039f\"], [0.2222222222222222, \"#7201a8\"], [0.3333333333333333, \"#9c179e\"], [0.4444444444444444, \"#bd3786\"], [0.5555555555555556, \"#d8576b\"], [0.6666666666666666, \"#ed7953\"], [0.7777777777777778, \"#fb9f3a\"], [0.8888888888888888, \"#fdca26\"], [1.0, \"#f0f921\"]], \"type\": \"histogram2dcontour\"}], \"mesh3d\": [{\"colorbar\": {\"outlinewidth\": 0, \"ticks\": \"\"}, \"type\": \"mesh3d\"}], \"parcoords\": [{\"line\": {\"colorbar\": {\"outlinewidth\": 0, \"ticks\": \"\"}}, \"type\": \"parcoords\"}], \"scatter\": [{\"marker\": {\"colorbar\": {\"outlinewidth\": 0, \"ticks\": \"\"}}, \"type\": \"scatter\"}], \"scatter3d\": [{\"line\": {\"colorbar\": {\"outlinewidth\": 0, \"ticks\": \"\"}}, \"marker\": {\"colorbar\": {\"outlinewidth\": 0, \"ticks\": \"\"}}, \"type\": \"scatter3d\"}], \"scattercarpet\": [{\"marker\": {\"colorbar\": {\"outlinewidth\": 0, \"ticks\": \"\"}}, \"type\": \"scattercarpet\"}], \"scattergeo\": [{\"marker\": {\"colorbar\": {\"outlinewidth\": 0, \"ticks\": \"\"}}, \"type\": \"scattergeo\"}], \"scattergl\": [{\"marker\": {\"colorbar\": {\"outlinewidth\": 0, \"ticks\": \"\"}}, \"type\": \"scattergl\"}], \"scattermapbox\": [{\"marker\": {\"colorbar\": {\"outlinewidth\": 0, \"ticks\": \"\"}}, \"type\": \"scattermapbox\"}], \"scatterpolar\": [{\"marker\": {\"colorbar\": {\"outlinewidth\": 0, \"ticks\": \"\"}}, \"type\": \"scatterpolar\"}], \"scatterpolargl\": [{\"marker\": {\"colorbar\": {\"outlinewidth\": 0, \"ticks\": \"\"}}, \"type\": \"scatterpolargl\"}], \"scatterternary\": [{\"marker\": {\"colorbar\": {\"outlinewidth\": 0, \"ticks\": \"\"}}, \"type\": \"scatterternary\"}], \"surface\": [{\"colorbar\": {\"outlinewidth\": 0, \"ticks\": \"\"}, \"colorscale\": [[0.0, \"#0d0887\"], [0.1111111111111111, \"#46039f\"], [0.2222222222222222, \"#7201a8\"], [0.3333333333333333, \"#9c179e\"], [0.4444444444444444, \"#bd3786\"], [0.5555555555555556, \"#d8576b\"], [0.6666666666666666, \"#ed7953\"], [0.7777777777777778, \"#fb9f3a\"], [0.8888888888888888, \"#fdca26\"], [1.0, \"#f0f921\"]], \"type\": \"surface\"}], \"table\": [{\"cells\": {\"fill\": {\"color\": \"#EBF0F8\"}, \"line\": {\"color\": \"white\"}}, \"header\": {\"fill\": {\"color\": \"#C8D4E3\"}, \"line\": {\"color\": \"white\"}}, \"type\": \"table\"}]}, \"layout\": {\"annotationdefaults\": {\"arrowcolor\": \"#2a3f5f\", \"arrowhead\": 0, \"arrowwidth\": 1}, \"colorscale\": {\"diverging\": [[0, \"#8e0152\"], [0.1, \"#c51b7d\"], [0.2, \"#de77ae\"], [0.3, \"#f1b6da\"], [0.4, \"#fde0ef\"], [0.5, \"#f7f7f7\"], [0.6, \"#e6f5d0\"], [0.7, \"#b8e186\"], [0.8, \"#7fbc41\"], [0.9, \"#4d9221\"], [1, \"#276419\"]], \"sequential\": [[0.0, \"#0d0887\"], [0.1111111111111111, \"#46039f\"], [0.2222222222222222, \"#7201a8\"], [0.3333333333333333, \"#9c179e\"], [0.4444444444444444, \"#bd3786\"], [0.5555555555555556, \"#d8576b\"], [0.6666666666666666, \"#ed7953\"], [0.7777777777777778, \"#fb9f3a\"], [0.8888888888888888, \"#fdca26\"], [1.0, \"#f0f921\"]], \"sequentialminus\": [[0.0, \"#0d0887\"], [0.1111111111111111, \"#46039f\"], [0.2222222222222222, \"#7201a8\"], [0.3333333333333333, \"#9c179e\"], [0.4444444444444444, \"#bd3786\"], [0.5555555555555556, \"#d8576b\"], [0.6666666666666666, \"#ed7953\"], [0.7777777777777778, \"#fb9f3a\"], [0.8888888888888888, \"#fdca26\"], [1.0, \"#f0f921\"]]}, \"colorway\": [\"#636efa\", \"#EF553B\", \"#00cc96\", \"#ab63fa\", \"#FFA15A\", \"#19d3f3\", \"#FF6692\", \"#B6E880\", \"#FF97FF\", \"#FECB52\"], \"font\": {\"color\": \"#2a3f5f\"}, \"geo\": {\"bgcolor\": \"white\", \"lakecolor\": \"white\", \"landcolor\": \"#E5ECF6\", \"showlakes\": true, \"showland\": true, \"subunitcolor\": \"white\"}, \"hoverlabel\": {\"align\": \"left\"}, \"hovermode\": \"closest\", \"mapbox\": {\"style\": \"light\"}, \"paper_bgcolor\": \"white\", \"plot_bgcolor\": \"#E5ECF6\", \"polar\": {\"angularaxis\": {\"gridcolor\": \"white\", \"linecolor\": \"white\", \"ticks\": \"\"}, \"bgcolor\": \"#E5ECF6\", \"radialaxis\": {\"gridcolor\": \"white\", \"linecolor\": \"white\", \"ticks\": \"\"}}, \"scene\": {\"xaxis\": {\"backgroundcolor\": \"#E5ECF6\", \"gridcolor\": \"white\", \"gridwidth\": 2, \"linecolor\": \"white\", \"showbackground\": true, \"ticks\": \"\", \"zerolinecolor\": \"white\"}, \"yaxis\": {\"backgroundcolor\": \"#E5ECF6\", \"gridcolor\": \"white\", \"gridwidth\": 2, \"linecolor\": \"white\", \"showbackground\": true, \"ticks\": \"\", \"zerolinecolor\": \"white\"}, \"zaxis\": {\"backgroundcolor\": \"#E5ECF6\", \"gridcolor\": \"white\", \"gridwidth\": 2, \"linecolor\": \"white\", \"showbackground\": true, \"ticks\": \"\", \"zerolinecolor\": \"white\"}}, \"shapedefaults\": {\"line\": {\"color\": \"#2a3f5f\"}}, \"ternary\": {\"aaxis\": {\"gridcolor\": \"white\", \"linecolor\": \"white\", \"ticks\": \"\"}, \"baxis\": {\"gridcolor\": \"white\", \"linecolor\": \"white\", \"ticks\": \"\"}, \"bgcolor\": \"#E5ECF6\", \"caxis\": {\"gridcolor\": \"white\", \"linecolor\": \"white\", \"ticks\": \"\"}}, \"title\": {\"x\": 0.05}, \"xaxis\": {\"automargin\": true, \"gridcolor\": \"white\", \"linecolor\": \"white\", \"ticks\": \"\", \"zerolinecolor\": \"white\", \"zerolinewidth\": 2}, \"yaxis\": {\"automargin\": true, \"gridcolor\": \"white\", \"linecolor\": \"white\", \"ticks\": \"\", \"zerolinecolor\": \"white\", \"zerolinewidth\": 2}}}, \"xaxis\": {\"title\": {\"text\": \"\\u0414\\u043b\\u0438\\u043d\\u0430(cm)\"}}, \"yaxis\": {\"title\": {\"text\": \"ln(N)\"}}},\n",
       "                        {\"responsive\": true}\n",
       "                    ).then(function(){\n",
       "                            \n",
       "var gd = document.getElementById('4f4dd95d-1b51-4b2e-8012-63113ea562a2');\n",
       "var x = new MutationObserver(function (mutations, observer) {{\n",
       "        var display = window.getComputedStyle(gd).display;\n",
       "        if (!display || display === 'none') {{\n",
       "            console.log([gd, 'removed!']);\n",
       "            Plotly.purge(gd);\n",
       "            observer.disconnect();\n",
       "        }}\n",
       "}});\n",
       "\n",
       "// Listen for the removal of the full notebook cells\n",
       "var notebookContainer = gd.closest('#notebook-container');\n",
       "if (notebookContainer) {{\n",
       "    x.observe(notebookContainer, {childList: true});\n",
       "}}\n",
       "\n",
       "// Listen for the clearing of the current output cell\n",
       "var outputEl = gd.closest('.output');\n",
       "if (outputEl) {{\n",
       "    x.observe(outputEl, {childList: true});\n",
       "}}\n",
       "\n",
       "                        })\n",
       "                };\n",
       "                });\n",
       "            </script>\n",
       "        </div>"
      ]
     },
     "metadata": {},
     "output_type": "display_data"
    },
    {
     "ename": "ValueError",
     "evalue": "\nThe orca executable is required to export figures as static images,\nbut it could not be found on the system path.\n\nSearched for executable 'orca' on the following path:\n    /Users/pavel/anaconda3/bin\n    /usr/local/bin\n    /usr/bin\n    /bin\n    /usr/sbin\n    /sbin\n    /Library/TeX/texbin\n    /usr/local/share/dotnet\n    /Library/Frameworks/Mono.framework/Versions/Current/Commands\n    /Applications/Xamarin Workbooks.app/Contents/SharedSupport/path-bin\n\nIf you haven't installed orca yet, you can do so using conda as follows:\n\n    $ conda install -c plotly plotly-orca\n\nAlternatively, see other installation methods in the orca project README at\nhttps://github.com/plotly/orca.\n\nAfter installation is complete, no further configuration should be needed.\n\nIf you have installed orca, then for some reason plotly.py was unable to\nlocate it. In this case, set the `plotly.io.orca.config.executable`\nproperty to the full path of your orca executable. For example:\n\n    >>> plotly.io.orca.config.executable = '/path/to/orca'\n\nAfter updating this executable property, try the export operation again.\nIf it is successful then you may want to save this configuration so that it\nwill be applied automatically in future sessions. You can do this as follows:\n\n    >>> plotly.io.orca.config.save()\n\nIf you're still having trouble, feel free to ask for help on the forums at\nhttps://community.plot.ly/c/api/python\n",
     "output_type": "error",
     "traceback": [
      "\u001b[0;31m---------------------------------------------------------------------------\u001b[0m",
      "\u001b[0;31mValueError\u001b[0m                                Traceback (most recent call last)",
      "\u001b[0;32m<ipython-input-40-f140a9fac648>\u001b[0m in \u001b[0;36m<module>\u001b[0;34m\u001b[0m\n\u001b[1;32m     33\u001b[0m                    yaxis_title='ln(N)')\n\u001b[1;32m     34\u001b[0m \u001b[0mfig\u001b[0m\u001b[0;34m.\u001b[0m\u001b[0mshow\u001b[0m\u001b[0;34m(\u001b[0m\u001b[0;34m)\u001b[0m\u001b[0;34m\u001b[0m\u001b[0;34m\u001b[0m\u001b[0m\n\u001b[0;32m---> 35\u001b[0;31m \u001b[0mfig\u001b[0m\u001b[0;34m.\u001b[0m\u001b[0mwrite_image\u001b[0m\u001b[0;34m(\u001b[0m\u001b[0;34m\"images/fig1.pdf\"\u001b[0m\u001b[0;34m)\u001b[0m\u001b[0;34m\u001b[0m\u001b[0;34m\u001b[0m\u001b[0m\n\u001b[0m",
      "\u001b[0;32m~/anaconda3/lib/python3.6/site-packages/plotly/basedatatypes.py\u001b[0m in \u001b[0;36mwrite_image\u001b[0;34m(self, *args, **kwargs)\u001b[0m\n\u001b[1;32m   2682\u001b[0m         \u001b[0;32mimport\u001b[0m \u001b[0mplotly\u001b[0m\u001b[0;34m.\u001b[0m\u001b[0mio\u001b[0m \u001b[0;32mas\u001b[0m \u001b[0mpio\u001b[0m\u001b[0;34m\u001b[0m\u001b[0;34m\u001b[0m\u001b[0m\n\u001b[1;32m   2683\u001b[0m \u001b[0;34m\u001b[0m\u001b[0m\n\u001b[0;32m-> 2684\u001b[0;31m         \u001b[0;32mreturn\u001b[0m \u001b[0mpio\u001b[0m\u001b[0;34m.\u001b[0m\u001b[0mwrite_image\u001b[0m\u001b[0;34m(\u001b[0m\u001b[0mself\u001b[0m\u001b[0;34m,\u001b[0m \u001b[0;34m*\u001b[0m\u001b[0margs\u001b[0m\u001b[0;34m,\u001b[0m \u001b[0;34m**\u001b[0m\u001b[0mkwargs\u001b[0m\u001b[0;34m)\u001b[0m\u001b[0;34m\u001b[0m\u001b[0;34m\u001b[0m\u001b[0m\n\u001b[0m\u001b[1;32m   2685\u001b[0m \u001b[0;34m\u001b[0m\u001b[0m\n\u001b[1;32m   2686\u001b[0m     \u001b[0;31m# Static helpers\u001b[0m\u001b[0;34m\u001b[0m\u001b[0;34m\u001b[0m\u001b[0;34m\u001b[0m\u001b[0m\n",
      "\u001b[0;32m~/anaconda3/lib/python3.6/site-packages/plotly/io/_orca.py\u001b[0m in \u001b[0;36mwrite_image\u001b[0;34m(fig, file, format, scale, width, height, validate)\u001b[0m\n\u001b[1;32m   1703\u001b[0m     \u001b[0;31m# Do this first so we don't create a file if image conversion fails\u001b[0m\u001b[0;34m\u001b[0m\u001b[0;34m\u001b[0m\u001b[0;34m\u001b[0m\u001b[0m\n\u001b[1;32m   1704\u001b[0m     img_data = to_image(\n\u001b[0;32m-> 1705\u001b[0;31m         \u001b[0mfig\u001b[0m\u001b[0;34m,\u001b[0m \u001b[0mformat\u001b[0m\u001b[0;34m=\u001b[0m\u001b[0mformat\u001b[0m\u001b[0;34m,\u001b[0m \u001b[0mscale\u001b[0m\u001b[0;34m=\u001b[0m\u001b[0mscale\u001b[0m\u001b[0;34m,\u001b[0m \u001b[0mwidth\u001b[0m\u001b[0;34m=\u001b[0m\u001b[0mwidth\u001b[0m\u001b[0;34m,\u001b[0m \u001b[0mheight\u001b[0m\u001b[0;34m=\u001b[0m\u001b[0mheight\u001b[0m\u001b[0;34m,\u001b[0m \u001b[0mvalidate\u001b[0m\u001b[0;34m=\u001b[0m\u001b[0mvalidate\u001b[0m\u001b[0;34m\u001b[0m\u001b[0;34m\u001b[0m\u001b[0m\n\u001b[0m\u001b[1;32m   1706\u001b[0m     )\n\u001b[1;32m   1707\u001b[0m \u001b[0;34m\u001b[0m\u001b[0m\n",
      "\u001b[0;32m~/anaconda3/lib/python3.6/site-packages/plotly/io/_orca.py\u001b[0m in \u001b[0;36mto_image\u001b[0;34m(fig, format, width, height, scale, validate)\u001b[0m\n\u001b[1;32m   1480\u001b[0m     \u001b[0;31m# Make sure orca sever is running\u001b[0m\u001b[0;34m\u001b[0m\u001b[0;34m\u001b[0m\u001b[0;34m\u001b[0m\u001b[0m\n\u001b[1;32m   1481\u001b[0m     \u001b[0;31m# -------------------------------\u001b[0m\u001b[0;34m\u001b[0m\u001b[0;34m\u001b[0m\u001b[0;34m\u001b[0m\u001b[0m\n\u001b[0;32m-> 1482\u001b[0;31m     \u001b[0mensure_server\u001b[0m\u001b[0;34m(\u001b[0m\u001b[0;34m)\u001b[0m\u001b[0;34m\u001b[0m\u001b[0;34m\u001b[0m\u001b[0m\n\u001b[0m\u001b[1;32m   1483\u001b[0m \u001b[0;34m\u001b[0m\u001b[0m\n\u001b[1;32m   1484\u001b[0m     \u001b[0;31m# Handle defaults\u001b[0m\u001b[0;34m\u001b[0m\u001b[0;34m\u001b[0m\u001b[0;34m\u001b[0m\u001b[0m\n",
      "\u001b[0;32m~/anaconda3/lib/python3.6/site-packages/plotly/io/_orca.py\u001b[0m in \u001b[0;36mensure_server\u001b[0;34m()\u001b[0m\n\u001b[1;32m   1342\u001b[0m     \u001b[0;31m# Validate orca executable\u001b[0m\u001b[0;34m\u001b[0m\u001b[0;34m\u001b[0m\u001b[0;34m\u001b[0m\u001b[0m\n\u001b[1;32m   1343\u001b[0m     \u001b[0;32mif\u001b[0m \u001b[0mstatus\u001b[0m\u001b[0;34m.\u001b[0m\u001b[0mstate\u001b[0m \u001b[0;34m==\u001b[0m \u001b[0;34m\"unvalidated\"\u001b[0m\u001b[0;34m:\u001b[0m\u001b[0;34m\u001b[0m\u001b[0;34m\u001b[0m\u001b[0m\n\u001b[0;32m-> 1344\u001b[0;31m         \u001b[0mvalidate_executable\u001b[0m\u001b[0;34m(\u001b[0m\u001b[0;34m)\u001b[0m\u001b[0;34m\u001b[0m\u001b[0;34m\u001b[0m\u001b[0m\n\u001b[0m\u001b[1;32m   1345\u001b[0m \u001b[0;34m\u001b[0m\u001b[0m\n\u001b[1;32m   1346\u001b[0m     \u001b[0;31m# Acquire lock to make sure that we keep the properties of orca_state\u001b[0m\u001b[0;34m\u001b[0m\u001b[0;34m\u001b[0m\u001b[0;34m\u001b[0m\u001b[0m\n",
      "\u001b[0;32m~/anaconda3/lib/python3.6/site-packages/plotly/io/_orca.py\u001b[0m in \u001b[0;36mvalidate_executable\u001b[0;34m()\u001b[0m\n\u001b[1;32m   1041\u001b[0m                 \u001b[0mexecutable\u001b[0m\u001b[0;34m=\u001b[0m\u001b[0mconfig\u001b[0m\u001b[0;34m.\u001b[0m\u001b[0mexecutable\u001b[0m\u001b[0;34m,\u001b[0m\u001b[0;34m\u001b[0m\u001b[0;34m\u001b[0m\u001b[0m\n\u001b[1;32m   1042\u001b[0m                 \u001b[0mformatted_path\u001b[0m\u001b[0;34m=\u001b[0m\u001b[0mformatted_path\u001b[0m\u001b[0;34m,\u001b[0m\u001b[0;34m\u001b[0m\u001b[0;34m\u001b[0m\u001b[0m\n\u001b[0;32m-> 1043\u001b[0;31m                 \u001b[0minstructions\u001b[0m\u001b[0;34m=\u001b[0m\u001b[0minstall_location_instructions\u001b[0m\u001b[0;34m,\u001b[0m\u001b[0;34m\u001b[0m\u001b[0;34m\u001b[0m\u001b[0m\n\u001b[0m\u001b[1;32m   1044\u001b[0m             )\n\u001b[1;32m   1045\u001b[0m         )\n",
      "\u001b[0;31mValueError\u001b[0m: \nThe orca executable is required to export figures as static images,\nbut it could not be found on the system path.\n\nSearched for executable 'orca' on the following path:\n    /Users/pavel/anaconda3/bin\n    /usr/local/bin\n    /usr/bin\n    /bin\n    /usr/sbin\n    /sbin\n    /Library/TeX/texbin\n    /usr/local/share/dotnet\n    /Library/Frameworks/Mono.framework/Versions/Current/Commands\n    /Applications/Xamarin Workbooks.app/Contents/SharedSupport/path-bin\n\nIf you haven't installed orca yet, you can do so using conda as follows:\n\n    $ conda install -c plotly plotly-orca\n\nAlternatively, see other installation methods in the orca project README at\nhttps://github.com/plotly/orca.\n\nAfter installation is complete, no further configuration should be needed.\n\nIf you have installed orca, then for some reason plotly.py was unable to\nlocate it. In this case, set the `plotly.io.orca.config.executable`\nproperty to the full path of your orca executable. For example:\n\n    >>> plotly.io.orca.config.executable = '/path/to/orca'\n\nAfter updating this executable property, try the export operation again.\nIf it is successful then you may want to save this configuration so that it\nwill be applied automatically in future sessions. You can do this as follows:\n\n    >>> plotly.io.orca.config.save()\n\nIf you're still having trouble, feel free to ask for help on the forums at\nhttps://community.plot.ly/c/api/python\n"
     ]
    }
   ],
   "source": [
    "fig = go.Figure()\n",
    "fig.add_trace(go.Scatter(x = all.iloc[:,1],y=all.iloc[:,3],\n",
    "                    mode='markers',\n",
    "                             marker=dict(color='red'),\n",
    "                         error_y=dict(\n",
    "                            type='constant',\n",
    "                            value=np.std(all.iloc[:,4], ddof=1)),\n",
    "                    name='Аллюминий'))\n",
    "fig.add_trace(go.Scatter(x = all_x,y=all_x*all_cof[0]+all_cof[1],\n",
    "                             line=dict(color='red'),showlegend=False))\n",
    "              \n",
    "fig.add_trace(go.Scatter(x = pb.iloc[:,1],y=pb.iloc[:,3],\n",
    "                    mode='markers',\n",
    "                             marker=dict(color='green'),\n",
    "                         error_y=dict(\n",
    "                            type='constant',\n",
    "                            value=np.std(pb.iloc[:,4], ddof=1)),\n",
    "                    name='Свинец'))\n",
    "\n",
    "fig.add_trace(go.Scatter(x = pb_x,y=pb_x*pb_cof[0]+pb_cof[1],\n",
    "                             line=dict(color='green'),showlegend=False))\n",
    "              \n",
    "fig.add_trace(go.Scatter(x = fe.iloc[:,1],y=fe.iloc[:,3],\n",
    "                    mode='markers',\n",
    "                             marker=dict(color='blue'),\n",
    "                         error_y=dict(\n",
    "                            type='constant',\n",
    "                            value=np.std(fe.iloc[:,4], ddof=1)),\n",
    "                    name='Железо'))\n",
    "fig.add_trace(go.Scatter(x = fe_x,y=fe_x*fe_cof[0]+fe_cof[1],\n",
    "                             line=dict(color='blue'),showlegend=False))\n",
    "fig.update_layout( xaxis_title='Длина(cm)',\n",
    "                   yaxis_title='ln(N)')\n",
    "fig.show()\n",
    "fig.write_image(\"images/fig1.pdf\")"
   ]
  },
  {
   "cell_type": "code",
   "execution_count": 37,
   "metadata": {
    "jupyter": {
     "source_hidden": true
    }
   },
   "outputs": [
    {
     "name": "stdout",
     "output_type": "stream",
     "text": [
      "Ln(N/N0)/l Аллюминий = 0.199\n",
      "Ln(N/N0)/l Свинец = 1.131\n",
      "Ln(N/N0)/l Железо = 0.538\n"
     ]
    }
   ],
   "source": [
    "mat = ['Аллюминий','Свинец','Железо']\n",
    "for i in range(3):\n",
    "    print('Ln(N/N0)/l',mat[i],'=',round(cof[i][0],3))"
   ]
  },
  {
   "cell_type": "code",
   "execution_count": 38,
   "metadata": {},
   "outputs": [
    {
     "name": "stdout",
     "output_type": "stream",
     "text": [
      "Ln(N/N0)/l Аллюминий = 0.0737037037037037\n",
      "Ln(N/N0)/l Свинец = 0.09973544973544973\n",
      "Ln(N/N0)/l Железо = 0.06832613665227331\n"
     ]
    }
   ],
   "source": [
    "mat_ro = [2.7, 11.34, 7.874]\n",
    "for i in range(3):\n",
    "    print('Ln(N/N0)/l',mat[i],'=',round(cof[i][0],3)/ mat_ro[i])"
   ]
  },
  {
   "cell_type": "code",
   "execution_count": null,
   "metadata": {
    "cell_style": "center"
   },
   "outputs": [],
   "source": []
  }
 ],
 "metadata": {
  "hide_input": false,
  "kernelspec": {
   "display_name": "Python 3",
   "language": "python",
   "name": "python3"
  },
  "language_info": {
   "codemirror_mode": {
    "name": "ipython",
    "version": 3
   },
   "file_extension": ".py",
   "mimetype": "text/x-python",
   "name": "python",
   "nbconvert_exporter": "python",
   "pygments_lexer": "ipython3",
   "version": "3.6.9"
  },
  "latex_envs": {
   "LaTeX_envs_menu_present": true,
   "autoclose": false,
   "autocomplete": true,
   "bibliofile": "biblio.bib",
   "cite_by": "apalike",
   "current_citInitial": 1,
   "eqLabelWithNumbers": true,
   "eqNumInitial": 1,
   "hotkeys": {
    "equation": "Ctrl-E",
    "itemize": "Ctrl-I"
   },
   "labels_anchors": false,
   "latex_user_defs": false,
   "report_style_numbering": false,
   "user_envs_cfg": true
  }
 },
 "nbformat": 4,
 "nbformat_minor": 4
}
